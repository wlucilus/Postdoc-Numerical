{
 "cells": [
  {
   "cell_type": "markdown",
   "id": "c4c1165c-e0db-4667-b5d1-8e998c8add27",
   "metadata": {},
   "source": [
    "## This code does a machine learning - multi linear fitting to the equation\n",
    "\n",
    "$$ log [Acid]_{org} = A *log [Extratant] + B* log [Acid]_{ini} + C + D*Weiner(extractant) + E*.....  $$"
   ]
  },
  {
   "cell_type": "code",
   "execution_count": 38,
   "id": "7feb9d39-f29c-481f-a1a1-400217e82c29",
   "metadata": {},
   "outputs": [],
   "source": [
    "import pandas as pd\n",
    "import seaborn as sns\n",
    "import numpy as np\n",
    "import matplotlib.pyplot as plt\n",
    "\n",
    "def R2adj(R:float, np: int, nfeatures:int ):\n",
    "       return 1 - (1-R)*(0.3*np-1)/(0.3*np-nfeatures-1)"
   ]
  },
  {
   "cell_type": "code",
   "execution_count": 2,
   "id": "34443850",
   "metadata": {},
   "outputs": [
    {
     "data": {
      "text/html": [
       "<div>\n",
       "<style scoped>\n",
       "    .dataframe tbody tr th:only-of-type {\n",
       "        vertical-align: middle;\n",
       "    }\n",
       "\n",
       "    .dataframe tbody tr th {\n",
       "        vertical-align: top;\n",
       "    }\n",
       "\n",
       "    .dataframe thead th {\n",
       "        text-align: right;\n",
       "    }\n",
       "</style>\n",
       "<table border=\"1\" class=\"dataframe\">\n",
       "  <thead>\n",
       "    <tr style=\"text-align: right;\">\n",
       "      <th></th>\n",
       "      <th>cid</th>\n",
       "      <th>cid_PM</th>\n",
       "      <th>cid_solvent</th>\n",
       "      <th>cid_acid</th>\n",
       "      <th>CextratantEq (M)</th>\n",
       "      <th>ExtractantName</th>\n",
       "      <th>Cextractant (M)</th>\n",
       "      <th>AverageAggregateSize (A)</th>\n",
       "      <th>Nextractantmol</th>\n",
       "      <th>ExtractantMonomer (%)</th>\n",
       "      <th>...</th>\n",
       "      <th>Rotatable bond count_acid</th>\n",
       "      <th>H bond donor count_acid</th>\n",
       "      <th>H bond acceptor count_acid</th>\n",
       "      <th>Charge_acid</th>\n",
       "      <th>Covalent Unit count_acid</th>\n",
       "      <th>TPSA_acid</th>\n",
       "      <th>Wiener_acid</th>\n",
       "      <th>Branching Index_acid</th>\n",
       "      <th>Polarity Index_acid</th>\n",
       "      <th>Heterogeneity Index_acid</th>\n",
       "    </tr>\n",
       "  </thead>\n",
       "  <tbody>\n",
       "    <tr>\n",
       "      <th>0</th>\n",
       "      <td>70700400.0</td>\n",
       "      <td>NaN</td>\n",
       "      <td>8182.0</td>\n",
       "      <td>944.0</td>\n",
       "      <td>NaN</td>\n",
       "      <td>TODGA</td>\n",
       "      <td>0.10</td>\n",
       "      <td>NaN</td>\n",
       "      <td>NaN</td>\n",
       "      <td>NaN</td>\n",
       "      <td>...</td>\n",
       "      <td>0.0</td>\n",
       "      <td>1.0</td>\n",
       "      <td>3.0</td>\n",
       "      <td>0.0</td>\n",
       "      <td>1.0</td>\n",
       "      <td>66.1</td>\n",
       "      <td>9.0</td>\n",
       "      <td>0.0</td>\n",
       "      <td>4.707928</td>\n",
       "      <td>1.015</td>\n",
       "    </tr>\n",
       "    <tr>\n",
       "      <th>1</th>\n",
       "      <td>70700400.0</td>\n",
       "      <td>NaN</td>\n",
       "      <td>8182.0</td>\n",
       "      <td>944.0</td>\n",
       "      <td>NaN</td>\n",
       "      <td>TODGA</td>\n",
       "      <td>0.10</td>\n",
       "      <td>NaN</td>\n",
       "      <td>NaN</td>\n",
       "      <td>NaN</td>\n",
       "      <td>...</td>\n",
       "      <td>0.0</td>\n",
       "      <td>1.0</td>\n",
       "      <td>3.0</td>\n",
       "      <td>0.0</td>\n",
       "      <td>1.0</td>\n",
       "      <td>66.1</td>\n",
       "      <td>9.0</td>\n",
       "      <td>0.0</td>\n",
       "      <td>4.707928</td>\n",
       "      <td>1.015</td>\n",
       "    </tr>\n",
       "    <tr>\n",
       "      <th>2</th>\n",
       "      <td>70700400.0</td>\n",
       "      <td>NaN</td>\n",
       "      <td>8182.0</td>\n",
       "      <td>944.0</td>\n",
       "      <td>NaN</td>\n",
       "      <td>TODGA</td>\n",
       "      <td>0.10</td>\n",
       "      <td>NaN</td>\n",
       "      <td>NaN</td>\n",
       "      <td>NaN</td>\n",
       "      <td>...</td>\n",
       "      <td>0.0</td>\n",
       "      <td>1.0</td>\n",
       "      <td>3.0</td>\n",
       "      <td>0.0</td>\n",
       "      <td>1.0</td>\n",
       "      <td>66.1</td>\n",
       "      <td>9.0</td>\n",
       "      <td>0.0</td>\n",
       "      <td>4.707928</td>\n",
       "      <td>1.015</td>\n",
       "    </tr>\n",
       "    <tr>\n",
       "      <th>3</th>\n",
       "      <td>70700400.0</td>\n",
       "      <td>NaN</td>\n",
       "      <td>8182.0</td>\n",
       "      <td>944.0</td>\n",
       "      <td>NaN</td>\n",
       "      <td>TODGA</td>\n",
       "      <td>0.10</td>\n",
       "      <td>NaN</td>\n",
       "      <td>NaN</td>\n",
       "      <td>NaN</td>\n",
       "      <td>...</td>\n",
       "      <td>0.0</td>\n",
       "      <td>1.0</td>\n",
       "      <td>3.0</td>\n",
       "      <td>0.0</td>\n",
       "      <td>1.0</td>\n",
       "      <td>66.1</td>\n",
       "      <td>9.0</td>\n",
       "      <td>0.0</td>\n",
       "      <td>4.707928</td>\n",
       "      <td>1.015</td>\n",
       "    </tr>\n",
       "    <tr>\n",
       "      <th>4</th>\n",
       "      <td>70700400.0</td>\n",
       "      <td>NaN</td>\n",
       "      <td>8182.0</td>\n",
       "      <td>944.0</td>\n",
       "      <td>NaN</td>\n",
       "      <td>TODGA</td>\n",
       "      <td>0.10</td>\n",
       "      <td>NaN</td>\n",
       "      <td>NaN</td>\n",
       "      <td>NaN</td>\n",
       "      <td>...</td>\n",
       "      <td>0.0</td>\n",
       "      <td>1.0</td>\n",
       "      <td>3.0</td>\n",
       "      <td>0.0</td>\n",
       "      <td>1.0</td>\n",
       "      <td>66.1</td>\n",
       "      <td>9.0</td>\n",
       "      <td>0.0</td>\n",
       "      <td>4.707928</td>\n",
       "      <td>1.015</td>\n",
       "    </tr>\n",
       "    <tr>\n",
       "      <th>...</th>\n",
       "      <td>...</td>\n",
       "      <td>...</td>\n",
       "      <td>...</td>\n",
       "      <td>...</td>\n",
       "      <td>...</td>\n",
       "      <td>...</td>\n",
       "      <td>...</td>\n",
       "      <td>...</td>\n",
       "      <td>...</td>\n",
       "      <td>...</td>\n",
       "      <td>...</td>\n",
       "      <td>...</td>\n",
       "      <td>...</td>\n",
       "      <td>...</td>\n",
       "      <td>...</td>\n",
       "      <td>...</td>\n",
       "      <td>...</td>\n",
       "      <td>...</td>\n",
       "      <td>...</td>\n",
       "      <td>...</td>\n",
       "      <td>...</td>\n",
       "    </tr>\n",
       "    <tr>\n",
       "      <th>8161</th>\n",
       "      <td>70700400.0</td>\n",
       "      <td>NaN</td>\n",
       "      <td>8900.0</td>\n",
       "      <td>1118.0</td>\n",
       "      <td>NaN</td>\n",
       "      <td>TODGA</td>\n",
       "      <td>0.02</td>\n",
       "      <td>NaN</td>\n",
       "      <td>NaN</td>\n",
       "      <td>NaN</td>\n",
       "      <td>...</td>\n",
       "      <td>0.0</td>\n",
       "      <td>2.0</td>\n",
       "      <td>4.0</td>\n",
       "      <td>0.0</td>\n",
       "      <td>1.0</td>\n",
       "      <td>83.0</td>\n",
       "      <td>16.0</td>\n",
       "      <td>0.0</td>\n",
       "      <td>5.160458</td>\n",
       "      <td>2.708</td>\n",
       "    </tr>\n",
       "    <tr>\n",
       "      <th>8162</th>\n",
       "      <td>70700400.0</td>\n",
       "      <td>NaN</td>\n",
       "      <td>8900.0</td>\n",
       "      <td>1118.0</td>\n",
       "      <td>NaN</td>\n",
       "      <td>TODGA</td>\n",
       "      <td>0.08</td>\n",
       "      <td>NaN</td>\n",
       "      <td>NaN</td>\n",
       "      <td>NaN</td>\n",
       "      <td>...</td>\n",
       "      <td>0.0</td>\n",
       "      <td>2.0</td>\n",
       "      <td>4.0</td>\n",
       "      <td>0.0</td>\n",
       "      <td>1.0</td>\n",
       "      <td>83.0</td>\n",
       "      <td>16.0</td>\n",
       "      <td>0.0</td>\n",
       "      <td>5.160458</td>\n",
       "      <td>2.708</td>\n",
       "    </tr>\n",
       "    <tr>\n",
       "      <th>8163</th>\n",
       "      <td>70700400.0</td>\n",
       "      <td>NaN</td>\n",
       "      <td>8900.0</td>\n",
       "      <td>1118.0</td>\n",
       "      <td>NaN</td>\n",
       "      <td>TODGA</td>\n",
       "      <td>0.06</td>\n",
       "      <td>NaN</td>\n",
       "      <td>NaN</td>\n",
       "      <td>NaN</td>\n",
       "      <td>...</td>\n",
       "      <td>0.0</td>\n",
       "      <td>2.0</td>\n",
       "      <td>4.0</td>\n",
       "      <td>0.0</td>\n",
       "      <td>1.0</td>\n",
       "      <td>83.0</td>\n",
       "      <td>16.0</td>\n",
       "      <td>0.0</td>\n",
       "      <td>5.160458</td>\n",
       "      <td>2.708</td>\n",
       "    </tr>\n",
       "    <tr>\n",
       "      <th>8164</th>\n",
       "      <td>70700400.0</td>\n",
       "      <td>NaN</td>\n",
       "      <td>8900.0</td>\n",
       "      <td>1118.0</td>\n",
       "      <td>NaN</td>\n",
       "      <td>TODGA</td>\n",
       "      <td>0.04</td>\n",
       "      <td>NaN</td>\n",
       "      <td>NaN</td>\n",
       "      <td>NaN</td>\n",
       "      <td>...</td>\n",
       "      <td>0.0</td>\n",
       "      <td>2.0</td>\n",
       "      <td>4.0</td>\n",
       "      <td>0.0</td>\n",
       "      <td>1.0</td>\n",
       "      <td>83.0</td>\n",
       "      <td>16.0</td>\n",
       "      <td>0.0</td>\n",
       "      <td>5.160458</td>\n",
       "      <td>2.708</td>\n",
       "    </tr>\n",
       "    <tr>\n",
       "      <th>8165</th>\n",
       "      <td>70700400.0</td>\n",
       "      <td>NaN</td>\n",
       "      <td>8900.0</td>\n",
       "      <td>1118.0</td>\n",
       "      <td>NaN</td>\n",
       "      <td>TODGA</td>\n",
       "      <td>0.06</td>\n",
       "      <td>NaN</td>\n",
       "      <td>NaN</td>\n",
       "      <td>NaN</td>\n",
       "      <td>...</td>\n",
       "      <td>0.0</td>\n",
       "      <td>2.0</td>\n",
       "      <td>4.0</td>\n",
       "      <td>0.0</td>\n",
       "      <td>1.0</td>\n",
       "      <td>83.0</td>\n",
       "      <td>16.0</td>\n",
       "      <td>0.0</td>\n",
       "      <td>5.160458</td>\n",
       "      <td>2.708</td>\n",
       "    </tr>\n",
       "  </tbody>\n",
       "</table>\n",
       "<p>8166 rows × 112 columns</p>\n",
       "</div>"
      ],
      "text/plain": [
       "             cid  cid_PM  cid_solvent  cid_acid  CextratantEq (M)  \\\n",
       "0     70700400.0     NaN       8182.0     944.0               NaN   \n",
       "1     70700400.0     NaN       8182.0     944.0               NaN   \n",
       "2     70700400.0     NaN       8182.0     944.0               NaN   \n",
       "3     70700400.0     NaN       8182.0     944.0               NaN   \n",
       "4     70700400.0     NaN       8182.0     944.0               NaN   \n",
       "...          ...     ...          ...       ...               ...   \n",
       "8161  70700400.0     NaN       8900.0    1118.0               NaN   \n",
       "8162  70700400.0     NaN       8900.0    1118.0               NaN   \n",
       "8163  70700400.0     NaN       8900.0    1118.0               NaN   \n",
       "8164  70700400.0     NaN       8900.0    1118.0               NaN   \n",
       "8165  70700400.0     NaN       8900.0    1118.0               NaN   \n",
       "\n",
       "     ExtractantName  Cextractant (M)  AverageAggregateSize (A)  \\\n",
       "0             TODGA             0.10                       NaN   \n",
       "1             TODGA             0.10                       NaN   \n",
       "2             TODGA             0.10                       NaN   \n",
       "3             TODGA             0.10                       NaN   \n",
       "4             TODGA             0.10                       NaN   \n",
       "...             ...              ...                       ...   \n",
       "8161          TODGA             0.02                       NaN   \n",
       "8162          TODGA             0.08                       NaN   \n",
       "8163          TODGA             0.06                       NaN   \n",
       "8164          TODGA             0.04                       NaN   \n",
       "8165          TODGA             0.06                       NaN   \n",
       "\n",
       "      Nextractantmol  ExtractantMonomer (%)  ...  Rotatable bond count_acid  \\\n",
       "0                NaN                    NaN  ...                        0.0   \n",
       "1                NaN                    NaN  ...                        0.0   \n",
       "2                NaN                    NaN  ...                        0.0   \n",
       "3                NaN                    NaN  ...                        0.0   \n",
       "4                NaN                    NaN  ...                        0.0   \n",
       "...              ...                    ...  ...                        ...   \n",
       "8161             NaN                    NaN  ...                        0.0   \n",
       "8162             NaN                    NaN  ...                        0.0   \n",
       "8163             NaN                    NaN  ...                        0.0   \n",
       "8164             NaN                    NaN  ...                        0.0   \n",
       "8165             NaN                    NaN  ...                        0.0   \n",
       "\n",
       "      H bond donor count_acid  H bond acceptor count_acid  Charge_acid  \\\n",
       "0                         1.0                         3.0          0.0   \n",
       "1                         1.0                         3.0          0.0   \n",
       "2                         1.0                         3.0          0.0   \n",
       "3                         1.0                         3.0          0.0   \n",
       "4                         1.0                         3.0          0.0   \n",
       "...                       ...                         ...          ...   \n",
       "8161                      2.0                         4.0          0.0   \n",
       "8162                      2.0                         4.0          0.0   \n",
       "8163                      2.0                         4.0          0.0   \n",
       "8164                      2.0                         4.0          0.0   \n",
       "8165                      2.0                         4.0          0.0   \n",
       "\n",
       "     Covalent Unit count_acid  TPSA_acid Wiener_acid  Branching Index_acid  \\\n",
       "0                         1.0       66.1         9.0                   0.0   \n",
       "1                         1.0       66.1         9.0                   0.0   \n",
       "2                         1.0       66.1         9.0                   0.0   \n",
       "3                         1.0       66.1         9.0                   0.0   \n",
       "4                         1.0       66.1         9.0                   0.0   \n",
       "...                       ...        ...         ...                   ...   \n",
       "8161                      1.0       83.0        16.0                   0.0   \n",
       "8162                      1.0       83.0        16.0                   0.0   \n",
       "8163                      1.0       83.0        16.0                   0.0   \n",
       "8164                      1.0       83.0        16.0                   0.0   \n",
       "8165                      1.0       83.0        16.0                   0.0   \n",
       "\n",
       "      Polarity Index_acid  Heterogeneity Index_acid  \n",
       "0                4.707928                     1.015  \n",
       "1                4.707928                     1.015  \n",
       "2                4.707928                     1.015  \n",
       "3                4.707928                     1.015  \n",
       "4                4.707928                     1.015  \n",
       "...                   ...                       ...  \n",
       "8161             5.160458                     2.708  \n",
       "8162             5.160458                     2.708  \n",
       "8163             5.160458                     2.708  \n",
       "8164             5.160458                     2.708  \n",
       "8165             5.160458                     2.708  \n",
       "\n",
       "[8166 rows x 112 columns]"
      ]
     },
     "execution_count": 2,
     "metadata": {},
     "output_type": "execute_result"
    }
   ],
   "source": [
    "df = pd.read_csv(\"csvData/articledataDBmerged4.csv\", skiprows=0,skip_blank_lines=True, index_col=0 )\n",
    "#df = pd.read_csv(\"../csvData/articledataDBextCalcD.dat\", skiprows=0,skip_blank_lines=True )\n",
    "#df = df[df['cid_PM'].isna() == True]\n",
    "df"
   ]
  },
  {
   "cell_type": "code",
   "execution_count": 3,
   "id": "37eece4b",
   "metadata": {
    "collapsed": false,
    "jupyter": {
     "outputs_hidden": false
    }
   },
   "outputs": [],
   "source": [
    "##Calculates the D values if the Extraction is known...\n",
    "def Dacid(row):\n",
    "    cacidorg = row['CacidOrg (M)']\n",
    "    cacid = row['Cacid (M)']\n",
    "    if ((cacidorg>0) & (cacid>0)):\n",
    "        return (cacidorg)/(cacid-cacidorg)\n",
    "\n",
    "df['Dacid (calc)'] = df.apply(Dacid, axis=1)\n",
    "#calculate log of some fields..\n",
    "def logDacid(row):\n",
    "    Dacid = row['Dacid (calc)']\n",
    "    if (Dacid>0) :\n",
    "        return np.log(Dacid)\n",
    "\n",
    "def logAcid(row):\n",
    "    HNO3ini = row['Cacid (M)']\n",
    "    if (HNO3ini>0) :\n",
    "        return np.log(HNO3ini)\n",
    "\n",
    "def logAcidOrg(row):\n",
    "    HNO3org = row['CacidOrg (M)']\n",
    "    if (HNO3org>0) :\n",
    "        return np.log(HNO3org)\n",
    "\n",
    "##Calculates the D values if the Extraction is known...\n",
    "def logExtractant(row):\n",
    "    Extractantini = row['Cextractant (M)']\n",
    "    #print('DHNO3:', DHNO3)\n",
    "    #print('At:',row.name)\n",
    "    if (Extractantini > 0) :\n",
    "        #print('DHNO3',DHNO3, 'HNO3org:', HNO3org, ' at row: ', row.name)\n",
    "        return np.log(Extractantini)\n",
    "\n",
    "def hb_sum(row):\n",
    "    return row['H bond donor count']+row['H bond acceptor count']\n",
    "\n",
    "df['logAcid'] = df.apply(logAcid, axis=1)\n",
    "df['logAcidOrg'] = df.apply(logAcidOrg, axis=1)\n",
    "df['logDacid'] = df.apply(logDacid, axis=1)\n",
    "df['logExtractant'] = df.apply(logExtractant, axis=1)\n",
    "df['HBsum'] = df.apply(hb_sum, axis=1)"
   ]
  },
  {
   "cell_type": "code",
   "execution_count": 4,
   "id": "50cc296d",
   "metadata": {
    "collapsed": false,
    "jupyter": {
     "outputs_hidden": false
    }
   },
   "outputs": [
    {
     "data": {
      "text/plain": [
       "array(['tachimori20022', 'tachimori2002', 'tachimori20023',\n",
       "       'allison004Todga', 'ravi2012', 'jensen2007', 'ravi2016',\n",
       "       'deepika2010', 'sasaki2015', 'campbell2018', 'yaita2004',\n",
       "       'sharmaTrivalentJapan', 'ansari2006', 'ansari206', 'gujar2010',\n",
       "       'xiaoleiliu2014', 'zhipengwang2017', 'ravi2013coextraction',\n",
       "       'swami2017', 'sharma2008', 'swami2018', 'swami2018min',\n",
       "       'sasakiRapold2007', 'mowafy2007', 'arisaka2011',\n",
       "       'ravi2013Feasibility', 'ivanov2017', 'whittaker2018',\n",
       "       'berthon2021', 'tachimoriAlkaline2003', 'ansari2013',\n",
       "       'ansari2006promissing', 'sasaki2013MIDOATODGA', 'campbell2017',\n",
       "       'parvathy2022insight', 'parvathy2022D3', 'basu2019', 'pathak2009',\n",
       "       'swamiUnravel2019', 'parvathy2020', 'prathibha2021', 'dhawa2021',\n",
       "       'swami2020MD', 'massey2022', 'singh2018', 'sharma2007J',\n",
       "       'Bell2012', 'Bell20123', 'Bell20120', 'Bell20122',\n",
       "       'zhizhusasaki2004', 'sasakiSugoSuzukiKimura2005',\n",
       "       'sasakiZhiSugoKimura2013', 'sasakiZhiSugoKimura2015',\n",
       "       'sasakiZhiSugoKimura2014', 'berthon2010', 'ganguly2011',\n",
       "       'sasaki2017', 'annam2017', 'pathak2013', 'hall2021',\n",
       "       'ravi2013DEHDODGA', 'nave2004', 'jaiswal2015', 'swami2017DOHyA',\n",
       "       'Prabhu1997', 'swami2019Aggre', 'parvathy2020FTIR',\n",
       "       'parvathy2020FTIR2', 'parvathy2020FTIR3', 'McCann2017', 'Hall2023',\n",
       "       'narayanan2024', 'Rodrigues2014', 'woodhead2019', 'swamiLOC2019',\n",
       "       'sasakiZhiSugoKimura2012', 'sasakiZhiSugoKimura2016', 'Pathak2001',\n",
       "       'Pathak1999', 'Manchanda2001', 'suzuki2004', 'sasakiSaeki2018',\n",
       "       'morita2001', 'wyatt', 'wyatt2022', 'wyatt2024', 'sadhuAurora2022',\n",
       "       'alisonOZ', 'Hall2022', 'nan2023', 'prathibha2018', 'mowafy2014',\n",
       "       'yingboXu2017', 'liuguoxin2018', 'Liugioxin2020', 'chen2020',\n",
       "       'allison?', 'yufeiNOV7superseparator', 'dasD2015', 'chen20202',\n",
       "       'chen20203', 'kumar2012', 'Ellis2016', 'dongdongXu2018',\n",
       "       'metwally2010', 'geist2020', 'paquet2019', 'wilden2014',\n",
       "       'Condamines1992', 'bosland2006', 'xiujingpeng2017', 'mowafy20134',\n",
       "       'Mowafy2001', 'ref citation unavailable', 'guoxin2010',\n",
       "       'guoxin20102', 'guoxin2010M', 'guoxin20103',\n",
       "       'sasakiKimuraOguma2007', 'brigham2017', 'Authen2022',\n",
       "       'wessling2020', 'servis2020', 'hanson2007', 'cai2015', 'cui2011',\n",
       "       'durdain2020', 'yuan2018', 'yuan2017'], dtype=object)"
      ]
     },
     "execution_count": 4,
     "metadata": {},
     "output_type": "execute_result"
    }
   ],
   "source": [
    "df['ref citation'].unique()"
   ]
  },
  {
   "cell_type": "code",
   "execution_count": 5,
   "id": "b68c22d1",
   "metadata": {
    "collapsed": false,
    "jupyter": {
     "outputs_hidden": false
    }
   },
   "outputs": [
    {
     "data": {
      "text/html": [
       "<div>\n",
       "<style scoped>\n",
       "    .dataframe tbody tr th:only-of-type {\n",
       "        vertical-align: middle;\n",
       "    }\n",
       "\n",
       "    .dataframe tbody tr th {\n",
       "        vertical-align: top;\n",
       "    }\n",
       "\n",
       "    .dataframe thead th {\n",
       "        text-align: right;\n",
       "    }\n",
       "</style>\n",
       "<table border=\"1\" class=\"dataframe\">\n",
       "  <thead>\n",
       "    <tr style=\"text-align: right;\">\n",
       "      <th></th>\n",
       "      <th>ref citation</th>\n",
       "      <th>Cextractant (M)</th>\n",
       "    </tr>\n",
       "  </thead>\n",
       "  <tbody>\n",
       "    <tr>\n",
       "      <th>0</th>\n",
       "      <td>tachimori20022</td>\n",
       "      <td>0.1000</td>\n",
       "    </tr>\n",
       "    <tr>\n",
       "      <th>27</th>\n",
       "      <td>tachimori2002</td>\n",
       "      <td>0.1000</td>\n",
       "    </tr>\n",
       "    <tr>\n",
       "      <th>28</th>\n",
       "      <td>tachimori2002</td>\n",
       "      <td>0.1000</td>\n",
       "    </tr>\n",
       "    <tr>\n",
       "      <th>30</th>\n",
       "      <td>tachimori2002</td>\n",
       "      <td>0.1000</td>\n",
       "    </tr>\n",
       "    <tr>\n",
       "      <th>31</th>\n",
       "      <td>tachimori2002</td>\n",
       "      <td>0.1000</td>\n",
       "    </tr>\n",
       "    <tr>\n",
       "      <th>...</th>\n",
       "      <td>...</td>\n",
       "      <td>...</td>\n",
       "    </tr>\n",
       "    <tr>\n",
       "      <th>7989</th>\n",
       "      <td>hanson2007</td>\n",
       "      <td>0.7359</td>\n",
       "    </tr>\n",
       "    <tr>\n",
       "      <th>7990</th>\n",
       "      <td>hanson2007</td>\n",
       "      <td>0.7359</td>\n",
       "    </tr>\n",
       "    <tr>\n",
       "      <th>8054</th>\n",
       "      <td>hanson2007</td>\n",
       "      <td>1.4719</td>\n",
       "    </tr>\n",
       "    <tr>\n",
       "      <th>8055</th>\n",
       "      <td>hanson2007</td>\n",
       "      <td>1.4719</td>\n",
       "    </tr>\n",
       "    <tr>\n",
       "      <th>8056</th>\n",
       "      <td>hanson2007</td>\n",
       "      <td>1.4719</td>\n",
       "    </tr>\n",
       "  </tbody>\n",
       "</table>\n",
       "<p>902 rows × 2 columns</p>\n",
       "</div>"
      ],
      "text/plain": [
       "        ref citation  Cextractant (M)\n",
       "0     tachimori20022           0.1000\n",
       "27     tachimori2002           0.1000\n",
       "28     tachimori2002           0.1000\n",
       "30     tachimori2002           0.1000\n",
       "31     tachimori2002           0.1000\n",
       "...              ...              ...\n",
       "7989      hanson2007           0.7359\n",
       "7990      hanson2007           0.7359\n",
       "8054      hanson2007           1.4719\n",
       "8055      hanson2007           1.4719\n",
       "8056      hanson2007           1.4719\n",
       "\n",
       "[902 rows x 2 columns]"
      ]
     },
     "execution_count": 5,
     "metadata": {},
     "output_type": "execute_result"
    }
   ],
   "source": [
    "df.loc[df['CacidOrg (M)'] <0.025  ] [['ref citation','Cextractant (M)']]#['Cacid (M)'].hist() #.plot(x='Cacid (M)', y='CacidOrg (M)', kind='scatter')"
   ]
  },
  {
   "cell_type": "code",
   "execution_count": 6,
   "id": "0b7dae55",
   "metadata": {
    "collapsed": false,
    "jupyter": {
     "outputs_hidden": false
    }
   },
   "outputs": [
    {
     "data": {
      "text/plain": [
       "Index(['cid', 'cid_PM', 'cid_solvent', 'cid_acid', 'CextratantEq (M)',\n",
       "       'ExtractantName', 'Cextractant (M)', 'AverageAggregateSize (A)',\n",
       "       'Nextractantmol', 'ExtractantMonomer (%)',\n",
       "       ...\n",
       "       'Wiener_acid', 'Branching Index_acid', 'Polarity Index_acid',\n",
       "       'Heterogeneity Index_acid', 'Dacid (calc)', 'logAcid', 'logAcidOrg',\n",
       "       'logDacid', 'logExtractant', 'HBsum'],\n",
       "      dtype='object', length=118)"
      ]
     },
     "execution_count": 6,
     "metadata": {},
     "output_type": "execute_result"
    }
   ],
   "source": [
    "df.columns"
   ]
  },
  {
   "cell_type": "code",
   "execution_count": 7,
   "id": "4e9bd120",
   "metadata": {
    "collapsed": false,
    "jupyter": {
     "outputs_hidden": false
    }
   },
   "outputs": [
    {
     "data": {
      "text/plain": [
       "array(['TODGA', 'D3DODGA', 'TEHDGA', 'THDGA', 'TDDGA', 'DEHDODGA',\n",
       "       'TDdDGA', 'TBP', 'DOHyA', 'DMDBTDMA', 'DEHiBA', 'DEHBA', 'HDEHDGA',\n",
       "       'DHOA', 'DEHPVA', 'DEHPRA', 'DEHAA', 'TDGA', 'MIDOA', 'DMDODGA',\n",
       "       'DMDOHEMA', 'Me2-TODGA', 'TBDGA', 'DBBA', 'DBHA', 'DHHA', 'DBEHHA',\n",
       "       'DEHHA', 'DHEHHA', 'DOOA', 'BHHA', 'TPDGA', 'TOA'], dtype=object)"
      ]
     },
     "execution_count": 7,
     "metadata": {},
     "output_type": "execute_result"
    }
   ],
   "source": [
    "df['ExtractantName'].unique()"
   ]
  },
  {
   "cell_type": "markdown",
   "id": "437d590c",
   "metadata": {},
   "source": [
    "___\n",
    "# Data analysis\n",
    "#### looking for correlation between the fields\n",
    "#### how good is the topological descriptor ? (how good it correlates?)\n",
    "#### How would good/bad correlations translate to predictability/accuracy in ML algorithms?\n",
    "---"
   ]
  },
  {
   "cell_type": "markdown",
   "id": "a3adfd7c",
   "metadata": {},
   "source": [
    "# Defining the fields for the Multi-linear Regression"
   ]
  },
  {
   "cell_type": "code",
   "execution_count": 8,
   "id": "def537b1",
   "metadata": {
    "collapsed": false,
    "jupyter": {
     "outputs_hidden": false
    }
   },
   "outputs": [],
   "source": [
    "allInputs = [# 'Cextractant (M)',\n",
    "       #'Nextractantmol', #'ExtractantMonomer (%)', 'intensity','intensityOverSize',\n",
    "        #'Rg',\n",
    "        #'Cacid (M)',\n",
    "        #'Cion (M)',\n",
    "       #'Cpm (M)',\n",
    "       'Temp (K)', 'Molecular Weight', 'XlogP',\n",
    "        'H bond donor count', 'H bond acceptor count',\n",
    "       'Charge', 'Covalent Unit count', 'TPSA', 'Wiener', 'Branching Index',\n",
    "       'Polarity Index', 'Heterogeneity Index','ABC Index']\n",
    "       # 'Molecular Weight_PM', 'XlogP_PM',\n",
    "       #'Rotatable bond count_PM', 'H bond donor count_PM', 'H bond acceptor count_PM',\n",
    "       #'Charge_PM', 'Covalent Unit count_PM', 'TPSA_PM', 'Wiener_PM', 'Branching Index_PM',\n",
    "       #'Polarity Index_PM', 'Heterogeneity Index_PM']\n",
    "\n",
    "allInputs =['XlogP', 'Polarity Index', 'Branching Index', 'Heterogeneity Index', 'Wiener','ABC Index', 'Temp (K)']#,\n",
    "#            'XlogP_PM', 'Polarity Index_PM', 'Branching Index_PM', 'Heterogeneity Index_PM', 'Wiener_PM']\n",
    "\n",
    "allInputs =['XlogP', 'Polarity Index', 'Branching Index', 'Heterogeneity Index', 'Wiener','ABC Index', 'Temp (K)',\n",
    "            'Chi1', 'Chi2n','Chi0v', 'Chi3v','HallKierAlpha']\n",
    "\n",
    "allInputs = []\n",
    "#fields that are going to be the input\n",
    "#there are pre-set to test, use inputFields, yfield to set the desired calculation\n",
    "i1 = ['Cextractant (M)','Cacid (M)', 'Temp (K)']\n",
    "i1 = ['Cextractant (M)','Cacid (M)']\n",
    "i1 = ['logExtractant', 'logAcid']\n",
    "i3 = ['Cextractant (M)','Cacid (M)', 'XlogP', 'Polarity Index']\n",
    "i4 = ['Cextractant (M)','Cacid (M)', 'Cpm (M)']\n",
    "i5 = ['Cextractant (M)','Cacid (M)', 'Cpm (M)','Cion (M)']\n",
    "i6 = ['Cextractant (M)','Cacid (M)', 'Cion (M)']\n",
    "i7 = ['Cextractant (M)','Cacid (M)', 'Polarity Index','Branching Index']\n",
    "i8 = ['Cextractant (M)','Cacid (M)', 'Polarity Index','Branching Index','Wiener']\n",
    "i9 = ['Cextractant (M)','Cacid (M)', 'Polarity Index','Branching Index','Wiener', 'Heterogeneity Index']\n",
    "i10 = ['Cextractant (M)','Cacid (M)', 'Polarity Index','Branching Index', 'Heterogeneity Index']\n",
    "i11 = ['Cextractant (M)','Cacid (M)','XlogP', 'Polarity Index','Branching Index', 'Heterogeneity Index']\n",
    "i12 = ['Cextractant (M)','Cacid (M)','XlogP', 'Polarity Index','Branching Index', 'Heterogeneity Index', 'Temp (K)']\n",
    "i13 = ['Cextractant (M)','Cacid (M)','XlogP', 'Polarity Index','Branching Index', 'Heterogeneity Index', 'Temp (K)','Cpm (M)']\n",
    "i14 = ['Cextractant (M)','Cacid (M)','XlogP', 'Polarity Index','Branching Index', 'Heterogeneity Index','Cpm (M)']\n",
    "i15 = ['Cextractant (M)', 'intensity', 'Cacid (M)','Molecular Weight', 'XlogP',\n",
    "       'Rotatable bond count', 'H bond donor count', 'H bond acceptor count',\n",
    "       'Charge', 'Covalent Unit count', 'TPSA', 'Wiener', 'Branching Index',\n",
    "       'Polarity Index', 'Heterogeneity Index']\n",
    "\n",
    "o1 = ['CacidOrg (M)']\n",
    "o1 = ['logAcidOrg']\n",
    "#o1 = ['CalculatedD']\n",
    "o2 = ['CionOrg (M)']\n",
    "o3 = ['D(acid)']\n",
    "o4 = ['D(ion)']\n",
    "o5 = ['Rg']\n",
    "o6 = ['ExtractantMonomer (%)']\n",
    "o7 = ['AverageAggregateSize (A)']"
   ]
  },
  {
   "cell_type": "markdown",
   "id": "d2fd81f1",
   "metadata": {},
   "source": [
    "# need to probe which field has linear dependence with CacidOrg\n",
    "\n",
    "from Auroras notes we have:\n",
    "+ fields must be linear\n",
    "\n",
    "from Leo:\n",
    "+ input Fields should be linearly independent"
   ]
  },
  {
   "cell_type": "markdown",
   "id": "6112858c",
   "metadata": {},
   "source": [
    "# There are two regions of linearity. For [Extractant] < 0.27 (R=0.90) and [Extractant] > 0.27 (R=0.98)"
   ]
  },
  {
   "cell_type": "code",
   "execution_count": 9,
   "id": "c6916730",
   "metadata": {
    "collapsed": false,
    "jupyter": {
     "outputs_hidden": false
    }
   },
   "outputs": [
    {
     "data": {
      "text/plain": [
       "1370"
      ]
     },
     "execution_count": 9,
     "metadata": {},
     "output_type": "execute_result"
    }
   ],
   "source": [
    "#kind of everything\n",
    "df1 = df.loc[#(~df['ExtractantName'].isin(['TBP', 'DOHyA','TEHDGA']))\n",
    "                  #&(df['AcidName']== 'HNO3')\n",
    "                    (df['has ions?'] == 0)\n",
    "                  & (df['has PM?'] == 0)\n",
    "                  #& (df['Cacid (M)'] < 7)\n",
    "                  & (df['CacidOrg (M)'].isna() == False)\n",
    "                  #&(~df['ref citation'].isin( ['ganguly2011']))\n",
    "                  #&(~df['ref citation'].isin( ['nave2004']))\n",
    "                  ]\n",
    "\n",
    "\n",
    "\n",
    "#acid TODGA + HNO3\n",
    "df1=df.loc[(df['ExtractantName'].isin(['TODGA'])) #, 'DHOA' #,'DMDOHEMA', 'THDGA','TDDGA', 'DOHyA'])) #THDGA\n",
    "                &  (df['AcidName']== 'HNO3')\n",
    "                  &  (df['has ions?'] == 0)\n",
    "                  & (df['has PM?'] == 0)\n",
    "                  #& (df['Cacid (M)'] < 7)\n",
    "                 # & (df['CacidOrg (M)'].isna() == False)\n",
    "                 # &(~df['ref citation'].isin( ['ganguly2011']))\n",
    "                 # &(~df['ref citation'].isin( ['nave2004']))\n",
    "        ]\n",
    "\n",
    "#acid and Extractant bench\n",
    "df1 = df.loc[(~df['ExtractantName'].isin(['TBP', 'DOHyA']))\n",
    "                  #&(df['AcidName']== 'HNO3')\n",
    "                  &  (df['has ions?'] == 0)\n",
    "                  & (df['has PM?'] == 0)\n",
    "                  & (df['Cacid (M)'] < 6)\n",
    "                  & (df['Cextractant (M)'] < 0.27)    #very restrictive, but this is the linear regime...\n",
    "                  #& (df['CacidOrg (M)'].isna() == False)  #what if there is a second linear regime?\n",
    "                  #& (df['CalculatedD'].isna() == False)\n",
    "                  #&(~df['ref citation'].isin( ['hall2021']))\n",
    "                  #&(~df['ref citation'].isin( ['nave2004']))\n",
    "                  ]\n",
    "\n",
    "#df1 = df\n",
    "len(df1)"
   ]
  },
  {
   "cell_type": "code",
   "execution_count": 11,
   "id": "ce11c2b7",
   "metadata": {
    "collapsed": false,
    "jupyter": {
     "outputs_hidden": false
    }
   },
   "outputs": [
    {
     "data": {
      "image/png": "[encoded data removed]",
      "text/plain": [
       "<Figure size 432x288 with 1 Axes>"
      ]
     },
     "metadata": {
      "needs_background": "light"
     },
     "output_type": "display_data"
    },
    {
     "data": {
      "image/png": "[encoded data removed]",
      "text/plain": [
       "<Figure size 360x360 with 1 Axes>"
      ]
     },
     "metadata": {
      "needs_background": "light"
     },
     "output_type": "display_data"
    },
    {
     "data": {
      "image/png": "[encoded data removed]",
      "text/plain": [
       "<Figure size 432x288 with 1 Axes>"
      ]
     },
     "metadata": {
      "needs_background": "light"
     },
     "output_type": "display_data"
    },
    {
     "data": {
      "image/png": "[encoded data removed]",
      "text/plain": [
       "<Figure size 360x360 with 1 Axes>"
      ]
     },
     "metadata": {
      "needs_background": "light"
     },
     "output_type": "display_data"
    },
    {
     "data": {
      "image/png": "[encoded data removed]",
      "text/plain": [
       "<Figure size 432x288 with 1 Axes>"
      ]
     },
     "metadata": {
      "needs_background": "light"
     },
     "output_type": "display_data"
    },
    {
     "data": {
      "image/png": "[encoded data removed]",
      "text/plain": [
       "<Figure size 360x360 with 1 Axes>"
      ]
     },
     "metadata": {
      "needs_background": "light"
     },
     "output_type": "display_data"
    }
   ],
   "source": [
    "fieldTemp = ['Cextractant (M)', 'Cacid (M)', 'CacidOrg (M)']\n",
    "for f in fieldTemp:\n",
    "       sns.boxplot(x=df1[f])\n",
    "       plt.show()\n",
    "       sns.displot(df1[f], bins=20, kde=False)\n",
    "       plt.show()"
   ]
  },
  {
   "cell_type": "code",
   "execution_count": 12,
   "id": "f325653a",
   "metadata": {
    "collapsed": false,
    "jupyter": {
     "outputs_hidden": false
    }
   },
   "outputs": [
    {
     "data": {
      "image/png": "[encoded data removed]",
      "text/plain": [
       "<Figure size 432x288 with 2 Axes>"
      ]
     },
     "metadata": {
      "needs_background": "light"
     },
     "output_type": "display_data"
    }
   ],
   "source": [
    "import seaborn as sns\n",
    "\n",
    "\n",
    "dfCorr = df1[i1+allInputs+o1]\n",
    "\n",
    "#sns.pairplot(dfCorr, x_vars=i1+allInputs, y_vars=o1, height=5, aspect=1, kind='scatter')\n",
    "#sns.pairplot(dfCorr,  kind='scatter')\n",
    "plt.show()\n",
    "sns.heatmap(dfCorr.corr(), cmap='YlGnBu', annot = True)\n",
    "plt.show()   #where is XlogP?"
   ]
  },
  {
   "cell_type": "code",
   "execution_count": 13,
   "id": "0dc28097",
   "metadata": {
    "collapsed": false,
    "jupyter": {
     "outputs_hidden": false
    }
   },
   "outputs": [
    {
     "name": "stdout",
     "output_type": "stream",
     "text": [
      "Elapsed time: 0.10525202751159668\n"
     ]
    }
   ],
   "source": [
    "from sklearn.preprocessing import MinMaxScaler\n",
    "from sklearn.model_selection import train_test_split\n",
    "from sklearn.linear_model import LinearRegression\n",
    "from sklearn import metrics\n",
    "\n",
    "\n",
    "coefHistory = []\n",
    "MAETestHistory = []\n",
    "MAETrainHistory = []\n",
    "RMSETestHistory = []\n",
    "R2testsetHistory = []\n",
    "R2trainHistory = []\n",
    "fieldsHistory = []\n",
    "lenYhistory = []\n",
    "\n",
    "data = []\n",
    "\n",
    "import time\n",
    "start = time.time()\n",
    "from itertools import combinations\n",
    "nskiped = 0\n",
    "ninputs = 0\n",
    "\n",
    "for setPartition in range(0,10):  #partition is the number of different test configurations\n",
    "   #print(setPartition)\n",
    "   tn = -1\n",
    "   for ele in combinations(allInputs, ninputs):\n",
    "          #print(list(ele))\n",
    "          tn +=1\n",
    "          inputFields = i1+list(ele)\n",
    "          #print(inputFields)\n",
    "          yfield = o1\n",
    "\n",
    "          #df1=df\n",
    "\n",
    "          #print('*** Using input/output:',inputFields+yfield)\n",
    "          dfValidFields = df1[inputFields+yfield].copy()\n",
    "\n",
    "          #Cleaning the null and NaN fields\n",
    "          feature = dfValidFields[inputFields+yfield].copy()\n",
    "          feature = feature.dropna()\n",
    "          feature = feature.drop_duplicates()\n",
    "          feature = feature.reset_index(drop=True)  ## this line is important, otherwise the indexes will be wierd\n",
    "          #feature\n",
    "          if(feature.size <5):\n",
    "                 print('Low feature size')\n",
    "                 nskiped += 1\n",
    "                 continue\n",
    "\n",
    "          #define the category values\n",
    "          yfield = yfield[0]\n",
    "          y = feature[yfield].values\n",
    "          #print(y)\n",
    "\n",
    "          feature = feature.drop(yfield, axis=1)\n",
    "          feature_list = list(feature.columns)\n",
    "          #feature_list\n",
    "          X2 = feature.values\n",
    "          #X2\n",
    "\n",
    "\n",
    "          min_max_scaler = MinMaxScaler()\n",
    "          X = min_max_scaler.fit_transform(X2)\n",
    "\n",
    "          #from sklearn.preprocessing import normalize\n",
    "          #X = normalize(X2,norm=\"l2\", axis=0)\n",
    "\n",
    "          #split the data into train and test data sets...\n",
    "\n",
    "          X_train, X_test, y_train, y_test = train_test_split(X, y, test_size=0.3, random_state=setPartition)  #test size is 30%\n",
    "\n",
    "          #apply the multilinear model to predic\n",
    "\n",
    "\n",
    "          mlr = LinearRegression()\n",
    "          mlr.fit(X_train,y_train)\n",
    "\n",
    "          #see the fitted coeficients\n",
    "          #print(\"Intercept: \", mlr.intercept_)\n",
    "          #print(\"Coefficients:\",mlr.coef_)\n",
    "\n",
    "          expression = ''\n",
    "          for i,names in enumerate(feature_list):\n",
    "              #print(names)\n",
    "              #print(mlr.coef_[0][i])\n",
    "              expression += '\\n +'+f\"{mlr.coef_[i]:.6f}\"+'* \\033[96m'+names+'\\033[00m'\n",
    "\n",
    "          #print('\\n',yfield, ' = ', mlr.intercept_, expression)\n",
    "\n",
    "          #prediction\n",
    "          ypred = mlr.predict(X_test)\n",
    "          ypredtrain = mlr.predict(X_train)\n",
    "\n",
    "\n",
    "          #Model Evaluation test set\n",
    "\n",
    "          meanAbErr = metrics.mean_absolute_error(y_test, ypred)\n",
    "          meanSqErr = metrics.mean_squared_error(y_test, ypred)\n",
    "          rootMeanSqErr = np.sqrt(metrics.mean_squared_error(y_test, ypred))\n",
    "          R2testset = metrics.r2_score(y_test, ypred)\n",
    "          #R2testset = 2*(0.8*metrics.r2_score(y_test, ypred)+ 0.2*len(y)/(1000*0.7))\n",
    "          #print('R squared: ', R2testset) #how many points fall on the prediction line\n",
    "          #print('Mean Absolute Error:', meanAbErr) # <yreal - ypred>\n",
    "          #print('Mean Square Error:', meanSqErr) #< (yreal-ypred)^2 >\n",
    "          #print('Root Mean Square Error:', rootMeanSqErr)\n",
    "          #print('Accuracy score:', metrics.accuracy_score(y_test, ypred))\n",
    "\n",
    "\n",
    "\n",
    "          #Model Evaluation train set\n",
    "          meanAbErrTrain = metrics.mean_absolute_error(y_train, ypredtrain )\n",
    "          meanSqErrTrain = metrics.mean_squared_error(y_train, ypredtrain)\n",
    "          rootMeanSqErrTrain = np.sqrt(metrics.mean_squared_error(y_train, ypredtrain))\n",
    "          R2train = metrics.r2_score(y_train, ypredtrain)\n",
    "          #R2train = 0.8+metrics.r2_score(y_train, ypredtrain) + 0.2*len(y)/(1000*0.7)\n",
    "          #print('R squared: ', R2train) #how many points fall on the prediction line\n",
    "          #print('Mean Absolute Error:', meanAbErr) # <yreal - ypred>\n",
    "          #print('Mean Square Error:', meanSqErr) #< (yreal-ypred)^2 >\n",
    "          #print('Root Mean Square Error:', rootMeanSqErr)\n",
    "\n",
    "          #if (meanAbErr <0.07):\n",
    "          if (R2testset> 0.0) and (R2train>0.0):\n",
    "                 R2testsetHistory.append(R2testset)\n",
    "                 R2trainHistory.append(R2train)\n",
    "                 #R2testsetHistory.append(meanAbErr)\n",
    "                 #R2trainHistory.append(meanAbErrTrain)\n",
    "                 fieldsHistory.append(inputFields)\n",
    "                 lenYhistory.append(len(y))\n",
    "                 coefHistory.append(np.concatenate(([mlr.intercept_], mlr.coef_)))\n",
    "                 MAETestHistory.append(meanAbErr)\n",
    "                 MAETrainHistory.append(meanAbErrTrain)\n",
    "                 RMSETestHistory.append(rootMeanSqErr)\n",
    "\n",
    "                 data.append( [setPartition,tn,lenYhistory[-1], *fieldsHistory[-1], *coefHistory[-1], R2testsetHistory[-1], MAETestHistory[-1],RMSETestHistory[-1] , R2trainHistory[-1],MAETrainHistory[-1]])\n",
    "                 #break\n",
    "          #print(data)\n",
    "          #dfResults = pd.concat([dfResults,pd.DataFrame(data=[setPartition,tn,lenYhistory[-1], fieldsHistory[-1], coefHistory[-1], R2testsetHistory[-1], MAETestHistory[-1]])])\n",
    "\n",
    "print('Elapsed time:', time.time() - start)"
   ]
  },
  {
   "cell_type": "code",
   "execution_count": 132,
   "id": "e1a3b15e",
   "metadata": {
    "collapsed": false,
    "jupyter": {
     "outputs_hidden": false
    }
   },
   "outputs": [],
   "source": []
  },
  {
   "cell_type": "code",
   "execution_count": 14,
   "id": "65acaa08",
   "metadata": {
    "collapsed": false,
    "jupyter": {
     "outputs_hidden": false
    }
   },
   "outputs": [
    {
     "name": "stdout",
     "output_type": "stream",
     "text": [
      "2\n"
     ]
    },
    {
     "data": {
      "text/html": [
       "<div>\n",
       "<style scoped>\n",
       "    .dataframe tbody tr th:only-of-type {\n",
       "        vertical-align: middle;\n",
       "    }\n",
       "\n",
       "    .dataframe tbody tr th {\n",
       "        vertical-align: top;\n",
       "    }\n",
       "\n",
       "    .dataframe thead th {\n",
       "        text-align: right;\n",
       "    }\n",
       "</style>\n",
       "<table border=\"1\" class=\"dataframe\">\n",
       "  <thead>\n",
       "    <tr style=\"text-align: right;\">\n",
       "      <th></th>\n",
       "      <th>setSeparation</th>\n",
       "      <th>testsetName</th>\n",
       "      <th>Number of points</th>\n",
       "      <th>field1</th>\n",
       "      <th>field2</th>\n",
       "      <th>A</th>\n",
       "      <th>B</th>\n",
       "      <th>C</th>\n",
       "      <th>Rsquared</th>\n",
       "      <th>MAE</th>\n",
       "      <th>RMSE</th>\n",
       "      <th>Rsquared(train)</th>\n",
       "      <th>MAEtrain</th>\n",
       "      <th>Rsquared-adj</th>\n",
       "    </tr>\n",
       "  </thead>\n",
       "  <tbody>\n",
       "    <tr>\n",
       "      <th>0</th>\n",
       "      <td>0</td>\n",
       "      <td>0</td>\n",
       "      <td>1191</td>\n",
       "      <td>logExtractant</td>\n",
       "      <td>logAcid</td>\n",
       "      <td>-11.231888</td>\n",
       "      <td>3.682743</td>\n",
       "      <td>7.120405</td>\n",
       "      <td>0.893756</td>\n",
       "      <td>0.334131</td>\n",
       "      <td>0.528464</td>\n",
       "      <td>0.883641</td>\n",
       "      <td>0.384173</td>\n",
       "      <td>0.893157</td>\n",
       "    </tr>\n",
       "    <tr>\n",
       "      <th>1</th>\n",
       "      <td>1</td>\n",
       "      <td>0</td>\n",
       "      <td>1191</td>\n",
       "      <td>logExtractant</td>\n",
       "      <td>logAcid</td>\n",
       "      <td>-11.213224</td>\n",
       "      <td>3.631597</td>\n",
       "      <td>7.141984</td>\n",
       "      <td>0.895333</td>\n",
       "      <td>0.351401</td>\n",
       "      <td>0.542105</td>\n",
       "      <td>0.882429</td>\n",
       "      <td>0.377282</td>\n",
       "      <td>0.894742</td>\n",
       "    </tr>\n",
       "    <tr>\n",
       "      <th>2</th>\n",
       "      <td>2</td>\n",
       "      <td>0</td>\n",
       "      <td>1191</td>\n",
       "      <td>logExtractant</td>\n",
       "      <td>logAcid</td>\n",
       "      <td>-11.209544</td>\n",
       "      <td>3.659434</td>\n",
       "      <td>7.124341</td>\n",
       "      <td>0.894683</td>\n",
       "      <td>0.345470</td>\n",
       "      <td>0.521245</td>\n",
       "      <td>0.883404</td>\n",
       "      <td>0.378215</td>\n",
       "      <td>0.894089</td>\n",
       "    </tr>\n",
       "    <tr>\n",
       "      <th>3</th>\n",
       "      <td>3</td>\n",
       "      <td>0</td>\n",
       "      <td>1191</td>\n",
       "      <td>logExtractant</td>\n",
       "      <td>logAcid</td>\n",
       "      <td>-11.174750</td>\n",
       "      <td>3.764283</td>\n",
       "      <td>6.973526</td>\n",
       "      <td>0.897752</td>\n",
       "      <td>0.362514</td>\n",
       "      <td>0.544123</td>\n",
       "      <td>0.881198</td>\n",
       "      <td>0.371726</td>\n",
       "      <td>0.897175</td>\n",
       "    </tr>\n",
       "    <tr>\n",
       "      <th>4</th>\n",
       "      <td>4</td>\n",
       "      <td>0</td>\n",
       "      <td>1191</td>\n",
       "      <td>logExtractant</td>\n",
       "      <td>logAcid</td>\n",
       "      <td>-11.192435</td>\n",
       "      <td>3.625033</td>\n",
       "      <td>7.131370</td>\n",
       "      <td>0.888971</td>\n",
       "      <td>0.367512</td>\n",
       "      <td>0.572008</td>\n",
       "      <td>0.885195</td>\n",
       "      <td>0.369206</td>\n",
       "      <td>0.888344</td>\n",
       "    </tr>\n",
       "    <tr>\n",
       "      <th>5</th>\n",
       "      <td>5</td>\n",
       "      <td>0</td>\n",
       "      <td>1191</td>\n",
       "      <td>logExtractant</td>\n",
       "      <td>logAcid</td>\n",
       "      <td>-11.385932</td>\n",
       "      <td>3.812746</td>\n",
       "      <td>7.188254</td>\n",
       "      <td>0.878622</td>\n",
       "      <td>0.372661</td>\n",
       "      <td>0.577966</td>\n",
       "      <td>0.889284</td>\n",
       "      <td>0.370964</td>\n",
       "      <td>0.877936</td>\n",
       "    </tr>\n",
       "    <tr>\n",
       "      <th>6</th>\n",
       "      <td>6</td>\n",
       "      <td>0</td>\n",
       "      <td>1191</td>\n",
       "      <td>logExtractant</td>\n",
       "      <td>logAcid</td>\n",
       "      <td>-11.153107</td>\n",
       "      <td>3.672646</td>\n",
       "      <td>7.044147</td>\n",
       "      <td>0.876063</td>\n",
       "      <td>0.374229</td>\n",
       "      <td>0.593111</td>\n",
       "      <td>0.890865</td>\n",
       "      <td>0.364930</td>\n",
       "      <td>0.875363</td>\n",
       "    </tr>\n",
       "    <tr>\n",
       "      <th>7</th>\n",
       "      <td>7</td>\n",
       "      <td>0</td>\n",
       "      <td>1191</td>\n",
       "      <td>logExtractant</td>\n",
       "      <td>logAcid</td>\n",
       "      <td>-11.084041</td>\n",
       "      <td>3.499666</td>\n",
       "      <td>7.122084</td>\n",
       "      <td>0.877959</td>\n",
       "      <td>0.387661</td>\n",
       "      <td>0.618117</td>\n",
       "      <td>0.890057</td>\n",
       "      <td>0.361731</td>\n",
       "      <td>0.877270</td>\n",
       "    </tr>\n",
       "    <tr>\n",
       "      <th>8</th>\n",
       "      <td>8</td>\n",
       "      <td>0</td>\n",
       "      <td>1191</td>\n",
       "      <td>logExtractant</td>\n",
       "      <td>logAcid</td>\n",
       "      <td>-11.325293</td>\n",
       "      <td>3.732150</td>\n",
       "      <td>7.208587</td>\n",
       "      <td>0.890187</td>\n",
       "      <td>0.376267</td>\n",
       "      <td>0.563940</td>\n",
       "      <td>0.884634</td>\n",
       "      <td>0.365855</td>\n",
       "      <td>0.889567</td>\n",
       "    </tr>\n",
       "    <tr>\n",
       "      <th>9</th>\n",
       "      <td>9</td>\n",
       "      <td>0</td>\n",
       "      <td>1191</td>\n",
       "      <td>logExtractant</td>\n",
       "      <td>logAcid</td>\n",
       "      <td>-11.167341</td>\n",
       "      <td>3.775764</td>\n",
       "      <td>6.946908</td>\n",
       "      <td>0.888087</td>\n",
       "      <td>0.372595</td>\n",
       "      <td>0.582773</td>\n",
       "      <td>0.885174</td>\n",
       "      <td>0.368490</td>\n",
       "      <td>0.887455</td>\n",
       "    </tr>\n",
       "  </tbody>\n",
       "</table>\n",
       "</div>"
      ],
      "text/plain": [
       "   setSeparation  testsetName  Number of points         field1   field2  \\\n",
       "0              0            0              1191  logExtractant  logAcid   \n",
       "1              1            0              1191  logExtractant  logAcid   \n",
       "2              2            0              1191  logExtractant  logAcid   \n",
       "3              3            0              1191  logExtractant  logAcid   \n",
       "4              4            0              1191  logExtractant  logAcid   \n",
       "5              5            0              1191  logExtractant  logAcid   \n",
       "6              6            0              1191  logExtractant  logAcid   \n",
       "7              7            0              1191  logExtractant  logAcid   \n",
       "8              8            0              1191  logExtractant  logAcid   \n",
       "9              9            0              1191  logExtractant  logAcid   \n",
       "\n",
       "           A         B         C  Rsquared       MAE      RMSE  \\\n",
       "0 -11.231888  3.682743  7.120405  0.893756  0.334131  0.528464   \n",
       "1 -11.213224  3.631597  7.141984  0.895333  0.351401  0.542105   \n",
       "2 -11.209544  3.659434  7.124341  0.894683  0.345470  0.521245   \n",
       "3 -11.174750  3.764283  6.973526  0.897752  0.362514  0.544123   \n",
       "4 -11.192435  3.625033  7.131370  0.888971  0.367512  0.572008   \n",
       "5 -11.385932  3.812746  7.188254  0.878622  0.372661  0.577966   \n",
       "6 -11.153107  3.672646  7.044147  0.876063  0.374229  0.593111   \n",
       "7 -11.084041  3.499666  7.122084  0.877959  0.387661  0.618117   \n",
       "8 -11.325293  3.732150  7.208587  0.890187  0.376267  0.563940   \n",
       "9 -11.167341  3.775764  6.946908  0.888087  0.372595  0.582773   \n",
       "\n",
       "   Rsquared(train)  MAEtrain  Rsquared-adj  \n",
       "0         0.883641  0.384173      0.893157  \n",
       "1         0.882429  0.377282      0.894742  \n",
       "2         0.883404  0.378215      0.894089  \n",
       "3         0.881198  0.371726      0.897175  \n",
       "4         0.885195  0.369206      0.888344  \n",
       "5         0.889284  0.370964      0.877936  \n",
       "6         0.890865  0.364930      0.875363  \n",
       "7         0.890057  0.361731      0.877270  \n",
       "8         0.884634  0.365855      0.889567  \n",
       "9         0.885174  0.368490      0.887455  "
      ]
     },
     "execution_count": 14,
     "metadata": {},
     "output_type": "execute_result"
    }
   ],
   "source": [
    "#print(data)\n",
    "\n",
    "dfResults = pd.DataFrame(data = data, columns=['setSeparation','testsetName','Number of points','field1','field2','A','B','C','Rsquared','MAE','RMSE','Rsquared(train)','MAEtrain'])\n",
    "\n",
    "#dfResults = pd.DataFrame(data = data, columns=['setSeparation','testsetName','Number of points','field1','field2','field3','A','B','C','D','Rsquared','MAE','RMSE', 'Rsquared(train)','MAEtrain'])\n",
    "#dfResults = pd.DataFrame(data = data, columns=['setSeparation','testsetName','Number of points','field1','field2','field3','field4','A','B','C','D','E','Rsquared','MAE','RMSE', 'Rsquared(train)','MAEtrain'])\n",
    "#dfResults = pd.DataFrame(data = data, columns=['setSeparation','testsetName','Number of points','field1','field2','field3','field4','field5','A','B','C','D','E','F','Rsquared','MAE','RMSE', 'Rsquared(train)','MAEtrain'])\n",
    "#dfResults = pd.DataFrame(data = data, columns=['setSeparation','testsetName','Number of points','field1','field2','field3','field4','field5','field6','A','B','C','D','E','F','G','Rsquared','MAE','RMSE', 'Rsquared(train)','MAEtrain'])\n",
    "print(len(inputFields))\n",
    "dfResults['Rsquared-adj'] = R2adj(dfResults['Rsquared'], dfResults['Number of points'], len(inputFields))  #last parameter is the number of fields\n",
    "dfResults"
   ]
  },
  {
   "cell_type": "code",
   "execution_count": 15,
   "id": "0219a897",
   "metadata": {
    "collapsed": false,
    "jupyter": {
     "outputs_hidden": false
    }
   },
   "outputs": [
    {
     "data": {
      "image/png": "[encoded data removed]",
      "text/plain": [
       "<Figure size 432x288 with 1 Axes>"
      ]
     },
     "metadata": {
      "needs_background": "light"
     },
     "output_type": "display_data"
    },
    {
     "data": {
      "image/png": "[encoded data removed]",
      "text/plain": [
       "<Figure size 432x288 with 1 Axes>"
      ]
     },
     "metadata": {
      "needs_background": "light"
     },
     "output_type": "display_data"
    }
   ],
   "source": [
    "fig, axii = plt.subplots()\n",
    "axii.set_xlabel('Fields combination used')\n",
    "for g,d in dfResults.groupby(['testsetName']):\n",
    "       d.sort_values(by='setSeparation').plot(x='setSeparation', y='Rsquared',  kind='line',\n",
    "               #ylim=(0,1), xlim=(0,4),\n",
    "               label='combination '+str(g), ax=axii, legend=None,\n",
    "               title='Rsquared vs  Different train/test set ', marker='o').set_ylabel('Rsquared')\n",
    "plt.show()\n",
    "\n",
    "fig, axii = plt.subplots()\n",
    "axii.set_xlabel('Fields combination used')\n",
    "for g,d in dfResults.groupby(['testsetName']):\n",
    "       d.sort_values(by='setSeparation').plot(x='setSeparation', y='MAE',  kind='line',\n",
    "               #ylim=(0,1), xlim=(0,4),\n",
    "               label='combination '+str(g), ax=axii,legend=None,\n",
    "               title='MAE vs  Different train/test set ', marker='o').set_ylabel('MAE')\n",
    "plt.show()\n",
    "\n",
    "\n",
    "\n",
    "#fig, axii = plt.subplots()\n",
    "#axii.set_xlabel('Fields combination used')\n",
    "#for g,d in dfResults.groupby(['setSeparation']):\n",
    "#       d.sort_values(by='testsetName').plot(x='testsetName', y='Rsquared',  kind='line',\n",
    "#               #ylim=(0,1), xlim=(0,9),\n",
    "#               label='train set used:'+str(g), ax=axii,\n",
    "#               title='Rsquared combination', marker='o').set_ylabel('Rsquared')\n",
    "#plt.show()"
   ]
  },
  {
   "cell_type": "code",
   "execution_count": 29,
   "id": "8f9dc1dd",
   "metadata": {
    "collapsed": false,
    "jupyter": {
     "outputs_hidden": false
    }
   },
   "outputs": [
    {
     "data": {
      "text/plain": [
       "[Text(0.5, 0, 'train set'),\n",
       " Text(0, 0.5, 'Rsquared'),\n",
       " Text(0.5, 1.0, 'Cacidorg = A + B*Cextractant + C*Cacid + D*LogP')]"
      ]
     },
     "execution_count": 29,
     "metadata": {},
     "output_type": "execute_result"
    },
    {
     "data": {
      "image/png": "[encoded data removed]",
      "text/plain": [
       "<Figure size 432x288 with 1 Axes>"
      ]
     },
     "metadata": {
      "needs_background": "light"
     },
     "output_type": "display_data"
    }
   ],
   "source": [
    "ax = dfResults[dfResults['testsetName']==4].plot(x='setSeparation', y='Rsquared', kind='line', marker='o')\n",
    "ax.set(xlabel='train set', ylabel='Rsquared', title='Cacidorg = A + B*Cextractant + C*Cacid + D*LogP')"
   ]
  },
  {
   "cell_type": "code",
   "execution_count": 30,
   "id": "95c229c1",
   "metadata": {
    "collapsed": false,
    "jupyter": {
     "outputs_hidden": false
    }
   },
   "outputs": [
    {
     "name": "stdout",
     "output_type": "stream",
     "text": [
      "Rsquared-adj   NaN\n",
      "dtype: float64\n"
     ]
    },
    {
     "data": {
      "text/plain": [
       "array([[<AxesSubplot:title={'center':'MAE'}>]], dtype=object)"
      ]
     },
     "execution_count": 30,
     "metadata": {},
     "output_type": "execute_result"
    },
    {
     "data": {
      "image/png": "[encoded data removed]",
      "text/plain": [
       "<Figure size 432x288 with 1 Axes>"
      ]
     },
     "metadata": {
      "needs_background": "light"
     },
     "output_type": "display_data"
    },
    {
     "data": {
      "image/png": "[encoded data removed]",
      "text/plain": [
       "<Figure size 432x288 with 1 Axes>"
      ]
     },
     "metadata": {
      "needs_background": "light"
     },
     "output_type": "display_data"
    }
   ],
   "source": [
    "dfResults.loc[dfResults['testsetName'] == 4][['Rsquared-adj']].hist()\n",
    "print(dfResults.loc[dfResults['testsetName'] == 4][['Rsquared-adj']].std())\n",
    "dfResults.loc[dfResults['testsetName'] == 4][['MAE']].hist()"
   ]
  },
  {
   "cell_type": "code",
   "execution_count": 31,
   "id": "bed1c167",
   "metadata": {
    "collapsed": false,
    "jupyter": {
     "outputs_hidden": false
    }
   },
   "outputs": [
    {
     "data": {
      "text/html": [
       "<div>\n",
       "<style scoped>\n",
       "    .dataframe tbody tr th:only-of-type {\n",
       "        vertical-align: middle;\n",
       "    }\n",
       "\n",
       "    .dataframe tbody tr th {\n",
       "        vertical-align: top;\n",
       "    }\n",
       "\n",
       "    .dataframe thead th {\n",
       "        text-align: right;\n",
       "    }\n",
       "</style>\n",
       "<table border=\"1\" class=\"dataframe\">\n",
       "  <thead>\n",
       "    <tr style=\"text-align: right;\">\n",
       "      <th></th>\n",
       "      <th>Field3</th>\n",
       "      <th>Number of points</th>\n",
       "      <th>Rsquared</th>\n",
       "      <th>MAE</th>\n",
       "      <th>RMSE</th>\n",
       "      <th>Rsquared(train)</th>\n",
       "      <th>MAEtrain</th>\n",
       "      <th>R2 diff</th>\n",
       "      <th>Rsquared-adj</th>\n",
       "      <th>Rsquared-adj - std</th>\n",
       "    </tr>\n",
       "    <tr>\n",
       "      <th>testsetName</th>\n",
       "      <th></th>\n",
       "      <th></th>\n",
       "      <th></th>\n",
       "      <th></th>\n",
       "      <th></th>\n",
       "      <th></th>\n",
       "      <th></th>\n",
       "      <th></th>\n",
       "      <th></th>\n",
       "      <th></th>\n",
       "    </tr>\n",
       "  </thead>\n",
       "  <tbody>\n",
       "    <tr>\n",
       "      <th>0</th>\n",
       "      <td>[logExtractant, logAcid]</td>\n",
       "      <td>1191.0</td>\n",
       "      <td>0.888141</td>\n",
       "      <td>0.364444</td>\n",
       "      <td>0.564385</td>\n",
       "      <td>0.885588</td>\n",
       "      <td>0.371257</td>\n",
       "      <td>0.002553</td>\n",
       "      <td>0.88751</td>\n",
       "      <td>0.007957</td>\n",
       "    </tr>\n",
       "  </tbody>\n",
       "</table>\n",
       "</div>"
      ],
      "text/plain": [
       "                               Field3  Number of points  Rsquared       MAE  \\\n",
       "testsetName                                                                   \n",
       "0            [logExtractant, logAcid]            1191.0  0.888141  0.364444   \n",
       "\n",
       "                 RMSE  Rsquared(train)  MAEtrain   R2 diff  Rsquared-adj  \\\n",
       "testsetName                                                                \n",
       "0            0.564385         0.885588  0.371257  0.002553       0.88751   \n",
       "\n",
       "             Rsquared-adj - std  \n",
       "testsetName                      \n",
       "0                      0.007957  "
      ]
     },
     "execution_count": 31,
     "metadata": {},
     "output_type": "execute_result"
    }
   ],
   "source": [
    "dfmean = dfResults.groupby(by='testsetName').mean()\n",
    "#print(dfmean.columns)\n",
    "#print(dfResults.groupby(by='testsetName').mean().iloc[1])\n",
    "#dfmean[[ 'Number of points', 'A', 'B', 'C', 'D', 'Rsquared', 'MAE', 'RMSE']]\n",
    "\n",
    "\n",
    "#nunique = len(dfResults['field3'].unique())*len(dfResults['field4'].unique()) #len(dfResults['field3'].unique())\n",
    "#print(nunique, nunique-nskiped)\n",
    "dfmean['Field3']= fieldsHistory[0:1]#['XlopP','Polarity Index','Branching Index', 'Heterogeneity Index','Wiener','Temp (K)']\n",
    "dfmean['R2 diff'] =np.abs(dfmean['Rsquared']-dfmean['Rsquared(train)'])\n",
    "dfmean['Rsquared-adj - std'] = dfResults.groupby(by='testsetName').std()['Rsquared-adj']\n",
    "dfmean[['Field3','Number of points', 'Rsquared', 'MAE', 'RMSE', 'Rsquared(train)','MAEtrain', 'R2 diff', 'Rsquared-adj','Rsquared-adj - std' ]]\n",
    "\n",
    "#dfmean[[ 'Number of points', 'A', 'B', 'C', 'D','E', 'Rsquared','MAE', 'RMSE']]\n",
    "#print(fieldsHistory)"
   ]
  },
  {
   "cell_type": "code",
   "execution_count": 24,
   "id": "9ace05c5",
   "metadata": {
    "collapsed": false,
    "jupyter": {
     "outputs_hidden": false
    }
   },
   "outputs": [
    {
     "data": {
      "text/html": [
       "<div>\n",
       "<style scoped>\n",
       "    .dataframe tbody tr th:only-of-type {\n",
       "        vertical-align: middle;\n",
       "    }\n",
       "\n",
       "    .dataframe tbody tr th {\n",
       "        vertical-align: top;\n",
       "    }\n",
       "\n",
       "    .dataframe thead th {\n",
       "        text-align: right;\n",
       "    }\n",
       "</style>\n",
       "<table border=\"1\" class=\"dataframe\">\n",
       "  <thead>\n",
       "    <tr style=\"text-align: right;\">\n",
       "      <th></th>\n",
       "      <th>Field3</th>\n",
       "      <th>A</th>\n",
       "      <th>B</th>\n",
       "      <th>C</th>\n",
       "      <th>Rsquared</th>\n",
       "      <th>MAE</th>\n",
       "      <th>R2 diff</th>\n",
       "      <th>Rsquared-adj</th>\n",
       "      <th>Rsquared-adj - std</th>\n",
       "      <th>Number of points</th>\n",
       "    </tr>\n",
       "    <tr>\n",
       "      <th>testsetName</th>\n",
       "      <th></th>\n",
       "      <th></th>\n",
       "      <th></th>\n",
       "      <th></th>\n",
       "      <th></th>\n",
       "      <th></th>\n",
       "      <th></th>\n",
       "      <th></th>\n",
       "      <th></th>\n",
       "      <th></th>\n",
       "    </tr>\n",
       "  </thead>\n",
       "  <tbody>\n",
       "    <tr>\n",
       "      <th>0</th>\n",
       "      <td>[logExtractant, logAcid]</td>\n",
       "      <td>-11.213755</td>\n",
       "      <td>3.685606</td>\n",
       "      <td>7.100161</td>\n",
       "      <td>0.888141</td>\n",
       "      <td>0.364444</td>\n",
       "      <td>0.002553</td>\n",
       "      <td>0.88751</td>\n",
       "      <td>0.007957</td>\n",
       "      <td>1191.0</td>\n",
       "    </tr>\n",
       "  </tbody>\n",
       "</table>\n",
       "</div>"
      ],
      "text/plain": [
       "                               Field3          A         B         C  \\\n",
       "testsetName                                                            \n",
       "0            [logExtractant, logAcid] -11.213755  3.685606  7.100161   \n",
       "\n",
       "             Rsquared       MAE   R2 diff  Rsquared-adj  Rsquared-adj - std  \\\n",
       "testsetName                                                                   \n",
       "0            0.888141  0.364444  0.002553       0.88751            0.007957   \n",
       "\n",
       "             Number of points  \n",
       "testsetName                    \n",
       "0                      1191.0  "
      ]
     },
     "execution_count": 24,
     "metadata": {},
     "output_type": "execute_result"
    }
   ],
   "source": [
    "#dfResults.groupby(by='testsetName').std()[['Number of points', 'Rsquared', 'MAE', 'RMSE', 'Rsquared(train)','MAEtrain', 'Rsquared-adj']]\n",
    "''' Mean importance of fields'''\n",
    "\n",
    "dfmean[['Field3','A','B','C', 'Rsquared', 'MAE', 'R2 diff', 'Rsquared-adj','Rsquared-adj - std', 'Number of points' ]]\n",
    "\n",
    "#dfmean[['Field3','A','B','C','D', 'Rsquared', 'MAE', 'R2 diff', 'Rsquared-adj','Rsquared-adj - std', 'Number of points' ]]\n",
    "#dfmean[['Field3','A','B','C','D','E', 'Rsquared', 'MAE', 'R2 diff', 'Rsquared-adj','Rsquared-adj - std', 'Number of points' ]]\n",
    "#dfmean[['Field3','A','B','C','D','E','F', 'Rsquared', 'MAE', 'R2 diff', 'Rsquared-adj','Rsquared-adj - std', 'Number of points' ]]\n"
   ]
  },
  {
   "cell_type": "code",
   "execution_count": 140,
   "id": "36769d57",
   "metadata": {
    "collapsed": false,
    "jupyter": {
     "outputs_hidden": false
    }
   },
   "outputs": [],
   "source": []
  },
  {
   "cell_type": "code",
   "execution_count": 32,
   "id": "9bafbe5a",
   "metadata": {
    "collapsed": false,
    "jupyter": {
     "outputs_hidden": false
    }
   },
   "outputs": [
    {
     "data": {
      "image/png": "[encoded data removed]",
      "text/plain": [
       "<Figure size 432x288 with 1 Axes>"
      ]
     },
     "metadata": {
      "needs_background": "light"
     },
     "output_type": "display_data"
    },
    {
     "data": {
      "image/png": "[encoded data removed]",
      "text/plain": [
       "<Figure size 432x288 with 1 Axes>"
      ]
     },
     "metadata": {
      "needs_background": "light"
     },
     "output_type": "display_data"
    },
    {
     "name": "stdout",
     "output_type": "stream",
     "text": [
      "0  :  Set length= 1191  :  ['logExtractant', 'logAcid']\n",
      "1  :  Set length= 1191  :  ['logExtractant', 'logAcid']\n",
      "2  :  Set length= 1191  :  ['logExtractant', 'logAcid']\n",
      "3  :  Set length= 1191  :  ['logExtractant', 'logAcid']\n",
      "4  :  Set length= 1191  :  ['logExtractant', 'logAcid']\n",
      "5  :  Set length= 1191  :  ['logExtractant', 'logAcid']\n",
      "6  :  Set length= 1191  :  ['logExtractant', 'logAcid']\n",
      "7  :  Set length= 1191  :  ['logExtractant', 'logAcid']\n",
      "8  :  Set length= 1191  :  ['logExtractant', 'logAcid']\n",
      "9  :  Set length= 1191  :  ['logExtractant', 'logAcid']\n"
     ]
    }
   ],
   "source": [
    "\n",
    "plt.scatter(range(0,len(R2testsetHistory)),R2testsetHistory, lenYhistory, label='Test set R2')\n",
    "plt.title('TestSet convergence')\n",
    "plt.ylabel('R2 values')\n",
    "plt.xlabel('Combination index')\n",
    "#plt.show()\n",
    "plt.scatter(range(0,len(R2trainHistory)),R2trainHistory, lenYhistory,  label='Train set R2')\n",
    "plt.title('Set convergence')\n",
    "plt.legend()\n",
    "plt.show()\n",
    "\n",
    "plt.scatter(range(0,len(MAETestHistory)),MAETestHistory, lenYhistory, label='Test set MAE')\n",
    "plt.title('TestSet convergence')\n",
    "plt.ylabel('MAE values')\n",
    "plt.xlabel('Combination index')\n",
    "#plt.show()\n",
    "#plt.scatter(range(0,len(MAETrainHistory)),MAETrainHistory, lenYhistory,  label='Train set MAE')\n",
    "#plt.title('TrainSet convergence')\n",
    "plt.legend()\n",
    "plt.show()\n",
    "\n",
    "for i,field in enumerate(fieldsHistory):\n",
    "       print(i,' : ', 'Set length=',lenYhistory[i],' : ',field)"
   ]
  },
  {
   "cell_type": "code",
   "execution_count": 33,
   "id": "ffa57b9b",
   "metadata": {
    "collapsed": false,
    "jupyter": {
     "outputs_hidden": false
    }
   },
   "outputs": [
    {
     "data": {
      "image/png": "[encoded data removed]",
      "text/plain": [
       "<Figure size 720x432 with 1 Axes>"
      ]
     },
     "metadata": {
      "needs_background": "light"
     },
     "output_type": "display_data"
    },
    {
     "data": {
      "image/png": "[encoded data removed]",
      "text/plain": [
       "<Figure size 432x288 with 1 Axes>"
      ]
     },
     "metadata": {
      "needs_background": "light"
     },
     "output_type": "display_data"
    }
   ],
   "source": [
    "#See how the predicted Y values compare to the predicted Y values (x axis is ordered by the row index)\n",
    "plt.figure(figsize=(10,6))\n",
    "plt.scatter(y_train, ypredtrain, label='Prediction R2:'+f'{metrics.r2_score(y_train, ypredtrain):.3f}' )\n",
    "plt.plot(y_train, y_train)\n",
    "#plt.plot(ypredtrain, label='Pred')\n",
    "plt.xlabel(yfield)\n",
    "#plt.xlabel('$[Acid]_{org} (M)$')\n",
    "#plt.ylabel(r'$\\mathrm{Predicted} \\; [Acid]_{org} (M)$')\n",
    "plt.ylabel(yfield)\n",
    "plt.title(\"Train set prediction (\"+ f\"{100*len(y_train)/(len(y_test)+len(y_train)):.1f}\"+'% of '+str(len(y))+' points)' )\n",
    "plt.legend()\n",
    "\n",
    "plt.show()\n",
    "\n",
    "#See how the predicted Y values compare to the predicted Y values (x axis is ordered by the row index)\n",
    "plt.scatter(y_test, ypred, label='test set prediction R²:'+f'{metrics.r2_score(y_test, ypred):.3f}')\n",
    "plt.plot(y_test, y_test)\n",
    "plt.xlabel(yfield)\n",
    "plt.ylabel(yfield)\n",
    "plt.title(\"Test set prediction (\"+ f\"{len(y_test):.2f}\"+' of '+str(len(y))+' points)' )\n",
    "#plt.text(1.1,0.4, 'MAE:'+f'{meanAbErr:.3f}', fontsize=12)\n",
    "#plt.text(1.1,0.5, 'R²:'+f'{metrics.r2_score(y_test, ypred):.3f}', fontsize=12)\n",
    "plt.legend()\n",
    "plt.show()"
   ]
  },
  {
   "cell_type": "code",
   "execution_count": 27,
   "id": "6a266fd6",
   "metadata": {
    "collapsed": false,
    "jupyter": {
     "outputs_hidden": false
    }
   },
   "outputs": [
    {
     "data": {
      "text/plain": [
       "<matplotlib.legend.Legend at 0x7fd219fc93a0>"
      ]
     },
     "execution_count": 27,
     "metadata": {},
     "output_type": "execute_result"
    },
    {
     "data": {
      "image/png": "[encoded data removed]",
      "text/plain": [
       "<Figure size 432x288 with 1 Axes>"
      ]
     },
     "metadata": {
      "needs_background": "light"
     },
     "output_type": "display_data"
    }
   ],
   "source": [
    "plt.xlabel('[acid] (M)')\n",
    "plt.ylabel('[extractant] (M)')\n",
    "plt.title('Cacid vs Cextractant train set ('+str(len(X_train))+')')\n",
    "plt.scatter(X_train[:,1], X_train[:,0], color='blue', alpha=0.5, label='Train')\n",
    "plt.scatter(X_test[:, 1], X_test[:, 0], color ='red', alpha=0.5, label='Test')\n",
    "plt.legend()"
   ]
  },
  {
   "cell_type": "code",
   "execution_count": 28,
   "id": "5e1ed930",
   "metadata": {
    "collapsed": false,
    "jupyter": {
     "outputs_hidden": false
    }
   },
   "outputs": [
    {
     "data": {
      "image/png": "[encoded data removed]",
      "text/plain": [
       "<Figure size 432x288 with 1 Axes>"
      ]
     },
     "metadata": {
      "needs_background": "light"
     },
     "output_type": "display_data"
    },
    {
     "data": {
      "image/png": "[encoded data removed]",
      "text/plain": [
       "<Figure size 432x288 with 1 Axes>"
      ]
     },
     "metadata": {
      "needs_background": "light"
     },
     "output_type": "display_data"
    },
    {
     "data": {
      "image/png": "[encoded data removed]",
      "text/plain": [
       "<Figure size 432x288 with 1 Axes>"
      ]
     },
     "metadata": {
      "needs_background": "light"
     },
     "output_type": "display_data"
    },
    {
     "data": {
      "image/png": "[encoded data removed]",
      "text/plain": [
       "<Figure size 432x288 with 1 Axes>"
      ]
     },
     "metadata": {
      "needs_background": "light"
     },
     "output_type": "display_data"
    }
   ],
   "source": [
    "#checking the residuals of the fitting\n",
    "#checking homoscedaicety\n",
    "plt.ylabel('Residuals testset')\n",
    "plt.xlabel('ypred test')\n",
    "plt.scatter(ypred,ypred-y_test)\n",
    "plt.plot(0)\n",
    "plt.show()\n",
    "\n",
    "#this should follow a gaussian distribution, more points are closer to zero, and errors decay away from zero\n",
    "plt.hist(ypred-y_test)\n",
    "plt.show()\n",
    "\n",
    "#checking the residuals of the fitting\n",
    "#checking homoscedaicety\n",
    "plt.ylabel('Residuals train')\n",
    "plt.xlabel('ypred train')\n",
    "plt.scatter(ypredtrain,ypredtrain-y_train)\n",
    "plt.plot(0)\n",
    "plt.show()\n",
    "\n",
    "#this should follow a gaussian distribution, more points are closer to zero, and errors decay away from zero\n",
    "plt.hist(ypred-y_test)\n",
    "plt.show()\n"
   ]
  },
  {
   "cell_type": "markdown",
   "id": "3be84103",
   "metadata": {},
   "source": []
  },
  {
   "cell_type": "markdown",
   "id": "f73e800a",
   "metadata": {},
   "source": [
    " i3, o1 R2 = 85, for 10% test\n",
    " i5, o1 R2 train = 0.94 for 60% train\n",
    " i6, o5 (Rg), R2 98/86 good but not many points...\n",
    " i11, o1 lots of diversity, 70%"
   ]
  },
  {
   "cell_type": "code",
   "execution_count": 50,
   "id": "b7073f15",
   "metadata": {
    "collapsed": false,
    "jupyter": {
     "outputs_hidden": false
    }
   },
   "outputs": [],
   "source": [
    "\n"
   ]
  },
  {
   "cell_type": "code",
   "execution_count": 184,
   "id": "5b3a1ffd",
   "metadata": {
    "collapsed": false,
    "jupyter": {
     "outputs_hidden": false
    }
   },
   "outputs": [],
   "source": []
  },
  {
   "cell_type": "code",
   "execution_count": null,
   "id": "0a815f2b",
   "metadata": {
    "collapsed": false,
    "jupyter": {
     "outputs_hidden": false
    }
   },
   "outputs": [],
   "source": []
  }
 ],
 "metadata": {
  "kernelspec": {
   "display_name": "Python 3 (ipykernel)",
   "language": "python",
   "name": "python3"
  },
  "language_info": {
   "codemirror_mode": {
    "name": "ipython",
    "version": 3
   },
   "file_extension": ".py",
   "mimetype": "text/x-python",
   "name": "python",
   "nbconvert_exporter": "python",
   "pygments_lexer": "ipython3",
   "version": "3.9.12"
  }
 },
 "nbformat": 4,
 "nbformat_minor": 5
}
