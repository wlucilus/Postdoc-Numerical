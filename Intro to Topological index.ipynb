{
 "cells": [
  {
   "cell_type": "code",
   "execution_count": 35,
   "id": "fc537d57",
   "metadata": {},
   "outputs": [],
   "source": [
    "import selfies as sf"
   ]
  },
  {
   "cell_type": "code",
   "execution_count": 36,
   "id": "91563915",
   "metadata": {},
   "outputs": [
    {
     "name": "stdout",
     "output_type": "stream",
     "text": [
      "conversion sucessful\n"
     ]
    }
   ],
   "source": [
    "#molecule = 'CCCCC'\n",
    "molecule = 'CS(=O)(=O)C1=CC=C(C=C1)C2=C(C(=O)OC2)C3=CC=CC=C3' #DiOcthylHexaEthylAmine (DOHE)\n",
    "\n",
    "# SMILES -> SELFIES -> SMILES translation\n",
    "try:\n",
    "    molecule_sf = sf.encoder(molecule)  # [C][=C][C][=C][C][=C][Ring1][=Branch1]\n",
    "    molecule_smi = sf.decoder(molecule_sf)  # C1=CC=CC=C1\n",
    "    print('conversion sucessful')\n",
    "    \n",
    "except sf.EncoderError:\n",
    "    print('Error from conversion smiles -> selfies')\n",
    "    pass  # sf.encoder error!\n",
    "except sf.DecoderError:\n",
    "    print('Error from conversion selfies -> smiles')\n",
    "    pass  # sf.decoder error!"
   ]
  },
  {
   "cell_type": "code",
   "execution_count": 37,
   "id": "6cd64b21",
   "metadata": {},
   "outputs": [
    {
     "data": {
      "text/plain": [
       "'[C][S][=Branch1][C][=O][=Branch1][C][=O][C][=C][C][=C][Branch1][Branch1][C][=C][Ring1][=Branch1][C][=C][Branch1][=Branch2][C][=Branch1][C][=O][O][C][Ring1][=Branch1][C][=C][C][=C][C][=C][Ring1][=Branch1]'"
      ]
     },
     "execution_count": 37,
     "metadata": {},
     "output_type": "execute_result"
    }
   ],
   "source": [
    "molecule_sf"
   ]
  },
  {
   "cell_type": "code",
   "execution_count": null,
   "id": "46e77f7e",
   "metadata": {},
   "outputs": [],
   "source": []
  },
  {
   "cell_type": "code",
   "execution_count": null,
   "id": "c2301c56",
   "metadata": {},
   "outputs": [],
   "source": []
  },
  {
   "cell_type": "markdown",
   "id": "fcc59813",
   "metadata": {},
   "source": [
    "---\n",
    "# Networkx/pysmiles and wiener index/graph representation\n",
    "Networkx can build graphs, show connections, matrix representation, wiener index calculation\n",
    "pysmiles, read and create smiles, can convert a SMILES directly to a networkx format\n",
    "\n",
    "---"
   ]
  },
  {
   "cell_type": "code",
   "execution_count": 1,
   "id": "dba08be6",
   "metadata": {},
   "outputs": [],
   "source": [
    "import networkx as nx\n",
    "import pysmiles as ps"
   ]
  },
  {
   "cell_type": "code",
   "execution_count": 2,
   "id": "76f9a9a3",
   "metadata": {},
   "outputs": [],
   "source": [
    "#dodecane = CCCCO'CCCCCCCCCCCC'\n",
    "dodecane = 'CCCCCCCC'\n",
    "mol = ps.read_smiles(dodecane) #this convert the smiles to a graph representation"
   ]
  },
  {
   "cell_type": "code",
   "execution_count": 49,
   "id": "6d8ee1f7",
   "metadata": {},
   "outputs": [
    {
     "data": {
      "text/plain": "<Figure size 432x288 with 1 Axes>",
      "image/png": "[encoded data removed]"
     },
     "metadata": {},
     "output_type": "display_data"
    }
   ],
   "source": [
    "#plot the graph\n",
    "import matplotlib.pyplot as plt\n",
    "elements = nx.get_node_attributes(mol, name = \"element\")\n",
    "nx.draw(mol, with_labels=True, labels = elements, pos=nx.spring_layout(mol) )\n",
    "plt.gca().set_aspect('equal')"
   ]
  },
  {
   "cell_type": "code",
   "execution_count": 9,
   "id": "1e68e449",
   "metadata": {},
   "outputs": [
    {
     "name": "stdout",
     "output_type": "stream",
     "text": [
      "[(0, 'C'), (1, 'C'), (2, 'C'), (3, 'C'), (4, 'C'), (5, 'C'), (6, 'C'), (7, 'C')]\n",
      "Adjacency matix\n",
      "[[0. 1. 0. 0. 0. 0. 0. 0.]\n",
      " [1. 0. 1. 0. 0. 0. 0. 0.]\n",
      " [0. 1. 0. 1. 0. 0. 0. 0.]\n",
      " [0. 0. 1. 0. 1. 0. 0. 0.]\n",
      " [0. 0. 0. 1. 0. 1. 0. 0.]\n",
      " [0. 0. 0. 0. 1. 0. 1. 0.]\n",
      " [0. 0. 0. 0. 0. 1. 0. 1.]\n",
      " [0. 0. 0. 0. 0. 0. 1. 0.]]\n",
      "0.0\n"
     ]
    }
   ],
   "source": [
    "# atom vector (C only)\n",
    "print(mol.nodes(data='element'))\n",
    "# adjacency matrix\n",
    "print('Adjacency matix')\n",
    "print(nx.to_numpy_matrix(mol))\n",
    "print(nx.to_numpy_matrix(mol)[1,1])\n"
   ]
  },
  {
   "cell_type": "code",
   "execution_count": 15,
   "outputs": [
    {
     "name": "stdout",
     "output_type": "stream",
     "text": [
      "0\n",
      "1\n",
      "1\n",
      "2\n",
      "1\n",
      "2\n",
      "1\n",
      "2\n",
      "1\n",
      "2\n",
      "1\n",
      "2\n",
      "1\n",
      "2\n",
      "0\n",
      "1\n",
      "1\n",
      "2\n",
      "2\n",
      "4\n",
      "2\n",
      "4\n",
      "2\n",
      "4\n",
      "2\n",
      "4\n",
      "2\n",
      "4\n",
      "2\n",
      "4\n",
      "1\n",
      "2\n",
      "1\n",
      "2\n",
      "2\n",
      "4\n",
      "2\n",
      "4\n",
      "2\n",
      "4\n",
      "2\n",
      "4\n",
      "2\n",
      "4\n",
      "2\n",
      "4\n",
      "1\n",
      "2\n",
      "1\n",
      "2\n",
      "2\n",
      "4\n",
      "2\n",
      "4\n",
      "2\n",
      "4\n",
      "2\n",
      "4\n",
      "2\n",
      "4\n",
      "2\n",
      "4\n",
      "1\n",
      "2\n",
      "1\n",
      "2\n",
      "2\n",
      "4\n",
      "2\n",
      "4\n",
      "2\n",
      "4\n",
      "2\n",
      "4\n",
      "2\n",
      "4\n",
      "2\n",
      "4\n",
      "1\n",
      "2\n",
      "1\n",
      "2\n",
      "2\n",
      "4\n",
      "2\n",
      "4\n",
      "2\n",
      "4\n",
      "2\n",
      "4\n",
      "2\n",
      "4\n",
      "2\n",
      "4\n",
      "1\n",
      "2\n",
      "1\n",
      "2\n",
      "2\n",
      "4\n",
      "2\n",
      "4\n",
      "2\n",
      "4\n",
      "2\n",
      "4\n",
      "2\n",
      "4\n",
      "2\n",
      "4\n",
      "1\n",
      "2\n",
      "0\n",
      "1\n",
      "1\n",
      "2\n",
      "1\n",
      "2\n",
      "1\n",
      "2\n",
      "1\n",
      "2\n",
      "1\n",
      "2\n",
      "1\n",
      "2\n",
      "0\n",
      "1\n",
      "4.9497474683058345\n"
     ]
    }
   ],
   "source": [
    "\n",
    "\"\"\"\n",
    "ABC(G) = sum a,b in edges sqrt{ (deg(a)+deg(b)-2)/(deg(a)*deg(b))}\n",
    "or\n",
    "ABC(G) = sum a,b in nodes sqrt(...) *Aji\n",
    "\"\"\"\n",
    "import numpy as np\n",
    "g = mol\n",
    "total = 0\n",
    "for a in g.nodes:\n",
    "    for b in g.nodes:\n",
    "        total += 0.5*np.sqrt(  (g.degree[a]+g.degree[b] - 2)/(g.degree[a]*g.degree[b]))*nx.to_numpy_matrix(g)[a,b]\n",
    "\n",
    "print(total)\n"
   ],
   "metadata": {
    "collapsed": false
   }
  },
  {
   "cell_type": "markdown",
   "id": "e65ab3b8",
   "metadata": {},
   "source": [
    "### Calculate the Wiener Index"
   ]
  },
  {
   "cell_type": "code",
   "execution_count": 67,
   "id": "99a51599",
   "metadata": {},
   "outputs": [
    {
     "name": "stdout",
     "output_type": "stream",
     "text": [
      "The wiener index is: 286.0\n"
     ]
    }
   ],
   "source": [
    "print(\"The wiener index is:\",nx.wiener_index(mol))\n"
   ]
  },
  {
   "cell_type": "code",
   "execution_count": 68,
   "id": "4c4b94a4",
   "metadata": {},
   "outputs": [],
   "source": [
    "#nx.to_numpy_matrix(mol, weight='order')"
   ]
  },
  {
   "cell_type": "code",
   "execution_count": null,
   "id": "913d8762",
   "metadata": {},
   "outputs": [],
   "source": []
  },
  {
   "cell_type": "code",
   "execution_count": 69,
   "id": "4c0e7469",
   "metadata": {},
   "outputs": [],
   "source": [
    "dohe = 'CS(=O)(=O)C1=CC=C(C=C1)C2=C(C(=O)OC2)C3=CC=CC=C3' #DiOcthylHexaEthylAmine DohA\n",
    "mol2 = ps.read_smiles(dohe)"
   ]
  },
  {
   "cell_type": "code",
   "execution_count": 70,
   "id": "e116f5d1",
   "metadata": {},
   "outputs": [
    {
     "name": "stdout",
     "output_type": "stream",
     "text": [
      "[(0, 'C'), (1, 'S'), (2, 'O'), (3, 'O'), (4, 'C'), (5, 'C'), (6, 'C'), (7, 'C'), (8, 'C'), (9, 'C'), (10, 'C'), (11, 'C'), (12, 'C'), (13, 'O'), (14, 'O'), (15, 'C'), (16, 'C'), (17, 'C'), (18, 'C'), (19, 'C'), (20, 'C'), (21, 'C')]\n",
      "[[0. 1. 0. 0. 0. 0. 0. 0. 0. 0. 0. 0. 0. 0. 0. 0. 0. 0. 0. 0. 0. 0.]\n",
      " [1. 0. 1. 1. 1. 0. 0. 0. 0. 0. 0. 0. 0. 0. 0. 0. 0. 0. 0. 0. 0. 0.]\n",
      " [0. 1. 0. 0. 0. 0. 0. 0. 0. 0. 0. 0. 0. 0. 0. 0. 0. 0. 0. 0. 0. 0.]\n",
      " [0. 1. 0. 0. 0. 0. 0. 0. 0. 0. 0. 0. 0. 0. 0. 0. 0. 0. 0. 0. 0. 0.]\n",
      " [0. 1. 0. 0. 0. 1. 0. 0. 0. 1. 0. 0. 0. 0. 0. 0. 0. 0. 0. 0. 0. 0.]\n",
      " [0. 0. 0. 0. 1. 0. 1. 0. 0. 0. 0. 0. 0. 0. 0. 0. 0. 0. 0. 0. 0. 0.]\n",
      " [0. 0. 0. 0. 0. 1. 0. 1. 0. 0. 0. 0. 0. 0. 0. 0. 0. 0. 0. 0. 0. 0.]\n",
      " [0. 0. 0. 0. 0. 0. 1. 0. 1. 0. 1. 0. 0. 0. 0. 0. 0. 0. 0. 0. 0. 0.]\n",
      " [0. 0. 0. 0. 0. 0. 0. 1. 0. 1. 0. 0. 0. 0. 0. 0. 0. 0. 0. 0. 0. 0.]\n",
      " [0. 0. 0. 0. 1. 0. 0. 0. 1. 0. 0. 0. 0. 0. 0. 0. 0. 0. 0. 0. 0. 0.]\n",
      " [0. 0. 0. 0. 0. 0. 0. 1. 0. 0. 0. 1. 0. 0. 0. 1. 0. 0. 0. 0. 0. 0.]\n",
      " [0. 0. 0. 0. 0. 0. 0. 0. 0. 0. 1. 0. 1. 0. 0. 0. 1. 0. 0. 0. 0. 0.]\n",
      " [0. 0. 0. 0. 0. 0. 0. 0. 0. 0. 0. 1. 0. 1. 1. 0. 0. 0. 0. 0. 0. 0.]\n",
      " [0. 0. 0. 0. 0. 0. 0. 0. 0. 0. 0. 0. 1. 0. 0. 0. 0. 0. 0. 0. 0. 0.]\n",
      " [0. 0. 0. 0. 0. 0. 0. 0. 0. 0. 0. 0. 1. 0. 0. 1. 0. 0. 0. 0. 0. 0.]\n",
      " [0. 0. 0. 0. 0. 0. 0. 0. 0. 0. 1. 0. 0. 0. 1. 0. 0. 0. 0. 0. 0. 0.]\n",
      " [0. 0. 0. 0. 0. 0. 0. 0. 0. 0. 0. 1. 0. 0. 0. 0. 0. 1. 0. 0. 0. 1.]\n",
      " [0. 0. 0. 0. 0. 0. 0. 0. 0. 0. 0. 0. 0. 0. 0. 0. 1. 0. 1. 0. 0. 0.]\n",
      " [0. 0. 0. 0. 0. 0. 0. 0. 0. 0. 0. 0. 0. 0. 0. 0. 0. 1. 0. 1. 0. 0.]\n",
      " [0. 0. 0. 0. 0. 0. 0. 0. 0. 0. 0. 0. 0. 0. 0. 0. 0. 0. 1. 0. 1. 0.]\n",
      " [0. 0. 0. 0. 0. 0. 0. 0. 0. 0. 0. 0. 0. 0. 0. 0. 0. 0. 0. 1. 0. 1.]\n",
      " [0. 0. 0. 0. 0. 0. 0. 0. 0. 0. 0. 0. 0. 0. 0. 0. 1. 0. 0. 0. 1. 0.]]\n",
      "The Wiener index is: 1061.0\n"
     ]
    }
   ],
   "source": [
    "# atom vector (C only)\n",
    "print(mol2.nodes(data='element'))\n",
    "# adjacency matrix\n",
    "print(nx.to_numpy_matrix(mol2))\n",
    "print(\"The Wiener index is:\",nx.wiener_index(mol2))"
   ]
  },
  {
   "cell_type": "code",
   "execution_count": 71,
   "id": "79696f0a",
   "metadata": {},
   "outputs": [
    {
     "data": {
      "image/png": "[encoded data removed]",
      "text/plain": [
       "<Figure size 432x288 with 1 Axes>"
      ]
     },
     "metadata": {},
     "output_type": "display_data"
    }
   ],
   "source": [
    "#plot the graph\n",
    "import matplotlib.pyplot as plt\n",
    "elements = nx.get_node_attributes(mol2, name = \"element\")\n",
    "nx.draw(mol2, with_labels=True, labels = elements, pos=nx.spring_layout(mol2) )\n",
    "plt.gca().set_aspect('equal')"
   ]
  },
  {
   "cell_type": "code",
   "execution_count": 72,
   "id": "2e98520c",
   "metadata": {},
   "outputs": [
    {
     "name": "stdout",
     "output_type": "stream",
     "text": [
      "1061.0\n",
      "0.1038961038961039\n",
      "6\n",
      "\n",
      "286.0\n",
      "0.16666666666666666\n",
      "6\n"
     ]
    }
   ],
   "source": [
    "print(nx.wiener_index(mol2))\n",
    "print(nx.density(mol2) )\n",
    "print(nx.radius(mol2) )\n",
    "print(\"\")\n",
    "print(nx.wiener_index(mol))\n",
    "print(nx.density(mol) )\n",
    "print(nx.radius(mol) )\n",
    "#print(nx.pagerank_scipy(mol) )\n"
   ]
  },
  {
   "cell_type": "code",
   "execution_count": 73,
   "id": "d5ab2678",
   "metadata": {},
   "outputs": [
    {
     "name": "stdout",
     "output_type": "stream",
     "text": [
      "1.173160173160173\n"
     ]
    }
   ],
   "source": [
    "print(nx.average_node_connectivity(mol2))"
   ]
  },
  {
   "cell_type": "code",
   "execution_count": 74,
   "id": "a9cabf3a",
   "metadata": {},
   "outputs": [],
   "source": [
    "#wiener index...\n",
    "def wienerindex(G):\n",
    "    wiener = 0\n",
    "    path = nx.all_pairs_shortest_path_length(G)\n",
    "    dpath = {x[0]:x[1] for x in path}  \n",
    "    \n",
    "    #print(dpath)\n",
    "    \n",
    "    for i in range(0,G.number_of_nodes(),1):\n",
    "        for j in range(0,G.number_of_nodes(),1):\n",
    "            #print(\"camino:\",dpath[i][j])\n",
    "            #print(\"i:\",i,\"j:\",j, \" Gnumernode:\", G.number_of_nodes())\n",
    "            #wiener = wiener + dpath[i][j]*G.degree[i]*G.degree[j]\n",
    "            wiener = wiener + dpath[i][j]\n",
    "       # print(\"\")\n",
    "    return wiener/2"
   ]
  },
  {
   "cell_type": "code",
   "execution_count": 75,
   "id": "31b1c5cc",
   "metadata": {},
   "outputs": [],
   "source": [
    "def zagrebindex(G):\n",
    "    zagreb = 0\n",
    "    for i in range(0,G.number_of_nodes(),1):\n",
    "        #print(\"i:\",i, \"degree:\",mol3.degree[i])\n",
    "        zagreb = zagreb + (G.degree[i]*G.degree[i])\n",
    "    return zagreb"
   ]
  },
  {
   "cell_type": "code",
   "execution_count": 76,
   "id": "e5495494",
   "metadata": {},
   "outputs": [],
   "source": [
    "def mzagrebindex(G):\n",
    "    zagreb = 0\n",
    "    for i in range(0,G.number_of_nodes(),1):\n",
    "        #print(\"i:\",i, \"degree:\",mol3.degree[i])\n",
    "        zagreb = zagreb + 1/(G.degree[i]*G.degree[i])\n",
    "    return zagreb"
   ]
  },
  {
   "cell_type": "code",
   "execution_count": 77,
   "id": "8492776e",
   "metadata": {},
   "outputs": [],
   "source": [
    "#ranjini et al 2013\n",
    "#modified second zagreb index\n",
    "def zagreb2index(G):\n",
    "    zagreb = 0\n",
    "    for i in range(0,G.number_of_nodes(),1):\n",
    "        for j in range(0,G.number_of_nodes(),1):\n",
    "            #print(\"i:\",i, \"degree:\",mol3.degree[i])\n",
    "            zagreb = zagreb + (G.degree[i]+G.degree[j])/(G.degree[i]*G.degree[j])\n",
    "    return zagreb"
   ]
  },
  {
   "cell_type": "code",
   "execution_count": 78,
   "id": "d37e7b6f",
   "metadata": {},
   "outputs": [],
   "source": [
    "#ranjini et al 2013\n",
    "#modified second zagreb index\n",
    "\n",
    "def zagreb3index(G):  \n",
    "    zagreb = 0\n",
    "    for i in range(0,G.number_of_nodes(),1):\n",
    "        for j in range(0,G.number_of_nodes(),1):\n",
    "            #print(\"i:\",i, \"degree:\",mol3.degree[i])\n",
    "            zagreb = zagreb + (G.degree[i]*G.degree[j])*(G.degree[i]+G.degree[j])\n",
    "    return zagreb"
   ]
  },
  {
   "cell_type": "code",
   "execution_count": 79,
   "id": "a584fbc6",
   "metadata": {},
   "outputs": [
    {
     "name": "stdout",
     "output_type": "stream",
     "text": [
      "Zagreb 0 index: 286.0  wiener index: 286.0\n",
      "Zagreb 0 index: 1061.0  wiener index: 1061.0\n",
      "Zagreb 0 index: 84.0  wiener index: 84.0\n",
      "\n",
      "Zagreb index: 42\n",
      "Zagreb index: 118\n",
      "Zagreb index: 26\n",
      "\n",
      "Modified Zagreb index: 4.5\n",
      "Modified Zagreb index: 7.479166666666665\n",
      "Modified Zagreb index: 3.5\n",
      "\n",
      "Zagreb 2 index: 168.0\n",
      "Zagreb 2 index: 516.9999999999987\n",
      "Zagreb 2 index: 80.0\n",
      "\n",
      "Zagreb 3 index: 1848\n",
      "Zagreb 3 index: 11328\n",
      "Zagreb 3 index: 728\n"
     ]
    }
   ],
   "source": [
    "octane = 'CCCCCCCC'\n",
    "mol3 = ps.read_smiles(octane) #this \n",
    "\n",
    "\n",
    "print(\"Zagreb 0 index:\", wienerindex(mol), \" wiener index:\", nx.wiener_index(mol))\n",
    "print(\"Zagreb 0 index:\", wienerindex(mol2), \" wiener index:\", nx.wiener_index(mol2))\n",
    "print(\"Zagreb 0 index:\", wienerindex(mol3), \" wiener index:\", nx.wiener_index(mol3))\n",
    "print(\"\")\n",
    "\n",
    "print(\"Zagreb index:\", zagrebindex(mol))\n",
    "print(\"Zagreb index:\", zagrebindex(mol2))\n",
    "print(\"Zagreb index:\", zagrebindex(mol3))\n",
    "print(\"\")\n",
    "print(\"Modified Zagreb index:\", mzagrebindex(mol))\n",
    "print(\"Modified Zagreb index:\", mzagrebindex(mol2))\n",
    "print(\"Modified Zagreb index:\", mzagrebindex(mol3))\n",
    "print(\"\")\n",
    "print(\"Zagreb 2 index:\", zagreb2index(mol))\n",
    "print(\"Zagreb 2 index:\", zagreb2index(mol2))\n",
    "print(\"Zagreb 2 index:\", zagreb2index(mol3))\n",
    "print(\"\")\n",
    "print(\"Zagreb 3 index:\", zagreb3index(mol))\n",
    "print(\"Zagreb 3 index:\", zagreb3index(mol2))\n",
    "print(\"Zagreb 3 index:\", zagreb3index(mol3))"
   ]
  },
  {
   "cell_type": "markdown",
   "id": "85c00c4d",
   "metadata": {},
   "source": [
    "#L = nx.normalized_laplacian_matrix(mol2)\n",
    "\n",
    "\n",
    "# see IGraph"
   ]
  },
  {
   "cell_type": "code",
   "execution_count": 50,
   "id": "cfc10841",
   "metadata": {},
   "outputs": [
    {
     "data": {
      "text/plain": "<rdkit.Chem.rdchem.Mol at 0x7fa6a68208e0>",
      "image/png": "[encoded data removed]"
     },
     "execution_count": 50,
     "metadata": {},
     "output_type": "execute_result"
    }
   ],
   "source": [
    "from rdkit import Chem\n",
    "from rdkit.Chem import Descriptors as d\n",
    "from rdkit.ML.Descriptors import MoleculeDescriptors as dML\n",
    "import numpy as np\n",
    "\n",
    "\n",
    "mymolecule = 'CCCCCCCC'\n",
    "\n",
    "m = Chem.MolFromSmiles(mymolecule)\n",
    "m"
   ]
  },
  {
   "cell_type": "code",
   "execution_count": 2,
   "id": "2cdea9e8",
   "metadata": {},
   "outputs": [
    {
     "data": {
      "text/plain": [
       "122.036779432"
      ]
     },
     "execution_count": 2,
     "metadata": {},
     "output_type": "execute_result"
    }
   ],
   "source": [
    "d.ExactMolWt(m)"
   ]
  },
  {
   "cell_type": "code",
   "execution_count": 3,
   "id": "74f0733b",
   "metadata": {},
   "outputs": [
    {
     "data": {
      "text/plain": [
       "0"
      ]
     },
     "execution_count": 3,
     "metadata": {},
     "output_type": "execute_result"
    }
   ],
   "source": [
    "d.fr_amide(m)"
   ]
  },
  {
   "cell_type": "code",
   "execution_count": 4,
   "id": "ad4896d6",
   "metadata": {},
   "outputs": [
    {
     "data": {
      "text/plain": [
       "'carbon monoxide'"
      ]
     },
     "execution_count": 4,
     "metadata": {},
     "output_type": "execute_result"
    }
   ],
   "source": [
    "m = Chem.MolFromSmiles('CO carbon monoxide')\n",
    "m.GetProp('_Name')"
   ]
  },
  {
   "cell_type": "code",
   "execution_count": 2,
   "id": "419bde86",
   "metadata": {},
   "outputs": [
    {
     "data": {
      "text/plain": "<rdkit.Chem.rdchem.Mol at 0x7fa6a33c57c0>",
      "image/png": "[encoded data removed]"
     },
     "execution_count": 2,
     "metadata": {},
     "output_type": "execute_result"
    }
   ],
   "source": [
    "#m = Chem.MolFromSmiles('c1ccccc1C(=O)O')\n",
    "m = Chem.MolFromSmiles('CCCCCCCCN(CCCCCCCC)CCCCCCCC')\n",
    "m"
   ]
  },
  {
   "cell_type": "code",
   "execution_count": 14,
   "outputs": [
    {
     "data": {
      "text/plain": "('MaxEStateIndex',\n 'MinEStateIndex',\n 'MaxAbsEStateIndex',\n 'MinAbsEStateIndex',\n 'qed',\n 'MolWt',\n 'HeavyAtomMolWt',\n 'ExactMolWt',\n 'NumValenceElectrons',\n 'NumRadicalElectrons',\n 'MaxPartialCharge',\n 'MinPartialCharge',\n 'MaxAbsPartialCharge',\n 'MinAbsPartialCharge',\n 'FpDensityMorgan1',\n 'FpDensityMorgan2',\n 'FpDensityMorgan3',\n 'BCUT2D_MWHI',\n 'BCUT2D_MWLOW',\n 'BCUT2D_CHGHI',\n 'BCUT2D_CHGLO',\n 'BCUT2D_LOGPHI',\n 'BCUT2D_LOGPLOW',\n 'BCUT2D_MRHI',\n 'BCUT2D_MRLOW',\n 'BalabanJ',\n 'BertzCT',\n 'Chi0',\n 'Chi0n',\n 'Chi0v',\n 'Chi1',\n 'Chi1n',\n 'Chi1v',\n 'Chi2n',\n 'Chi2v',\n 'Chi3n',\n 'Chi3v',\n 'Chi4n',\n 'Chi4v',\n 'HallKierAlpha',\n 'Ipc',\n 'Kappa1',\n 'Kappa2',\n 'Kappa3',\n 'LabuteASA',\n 'PEOE_VSA1',\n 'PEOE_VSA10',\n 'PEOE_VSA11',\n 'PEOE_VSA12',\n 'PEOE_VSA13',\n 'PEOE_VSA14',\n 'PEOE_VSA2',\n 'PEOE_VSA3',\n 'PEOE_VSA4',\n 'PEOE_VSA5',\n 'PEOE_VSA6',\n 'PEOE_VSA7',\n 'PEOE_VSA8',\n 'PEOE_VSA9',\n 'SMR_VSA1',\n 'SMR_VSA10',\n 'SMR_VSA2',\n 'SMR_VSA3',\n 'SMR_VSA4',\n 'SMR_VSA5',\n 'SMR_VSA6',\n 'SMR_VSA7',\n 'SMR_VSA8',\n 'SMR_VSA9',\n 'SlogP_VSA1',\n 'SlogP_VSA10',\n 'SlogP_VSA11',\n 'SlogP_VSA12',\n 'SlogP_VSA2',\n 'SlogP_VSA3',\n 'SlogP_VSA4',\n 'SlogP_VSA5',\n 'SlogP_VSA6',\n 'SlogP_VSA7',\n 'SlogP_VSA8',\n 'SlogP_VSA9',\n 'TPSA',\n 'EState_VSA1',\n 'EState_VSA10',\n 'EState_VSA11',\n 'EState_VSA2',\n 'EState_VSA3',\n 'EState_VSA4',\n 'EState_VSA5',\n 'EState_VSA6',\n 'EState_VSA7',\n 'EState_VSA8',\n 'EState_VSA9',\n 'VSA_EState1',\n 'VSA_EState10',\n 'VSA_EState2',\n 'VSA_EState3',\n 'VSA_EState4',\n 'VSA_EState5',\n 'VSA_EState6',\n 'VSA_EState7',\n 'VSA_EState8',\n 'VSA_EState9',\n 'FractionCSP3',\n 'HeavyAtomCount',\n 'NHOHCount',\n 'NOCount',\n 'NumAliphaticCarbocycles',\n 'NumAliphaticHeterocycles',\n 'NumAliphaticRings',\n 'NumAromaticCarbocycles',\n 'NumAromaticHeterocycles',\n 'NumAromaticRings',\n 'NumHAcceptors',\n 'NumHDonors',\n 'NumHeteroatoms',\n 'NumRotatableBonds',\n 'NumSaturatedCarbocycles',\n 'NumSaturatedHeterocycles',\n 'NumSaturatedRings',\n 'RingCount',\n 'MolLogP',\n 'MolMR',\n 'fr_Al_COO',\n 'fr_Al_OH',\n 'fr_Al_OH_noTert',\n 'fr_ArN',\n 'fr_Ar_COO',\n 'fr_Ar_N',\n 'fr_Ar_NH',\n 'fr_Ar_OH',\n 'fr_COO',\n 'fr_COO2',\n 'fr_C_O',\n 'fr_C_O_noCOO',\n 'fr_C_S',\n 'fr_HOCCN',\n 'fr_Imine',\n 'fr_NH0',\n 'fr_NH1',\n 'fr_NH2',\n 'fr_N_O',\n 'fr_Ndealkylation1',\n 'fr_Ndealkylation2',\n 'fr_Nhpyrrole',\n 'fr_SH',\n 'fr_aldehyde',\n 'fr_alkyl_carbamate',\n 'fr_alkyl_halide',\n 'fr_allylic_oxid',\n 'fr_amide',\n 'fr_amidine',\n 'fr_aniline',\n 'fr_aryl_methyl',\n 'fr_azide',\n 'fr_azo',\n 'fr_barbitur',\n 'fr_benzene',\n 'fr_benzodiazepine',\n 'fr_bicyclic',\n 'fr_diazo',\n 'fr_dihydropyridine',\n 'fr_epoxide',\n 'fr_ester',\n 'fr_ether',\n 'fr_furan',\n 'fr_guanido',\n 'fr_halogen',\n 'fr_hdrzine',\n 'fr_hdrzone',\n 'fr_imidazole',\n 'fr_imide',\n 'fr_isocyan',\n 'fr_isothiocyan',\n 'fr_ketone',\n 'fr_ketone_Topliss',\n 'fr_lactam',\n 'fr_lactone',\n 'fr_methoxy',\n 'fr_morpholine',\n 'fr_nitrile',\n 'fr_nitro',\n 'fr_nitro_arom',\n 'fr_nitro_arom_nonortho',\n 'fr_nitroso',\n 'fr_oxazole',\n 'fr_oxime',\n 'fr_para_hydroxylation',\n 'fr_phenol',\n 'fr_phenol_noOrthoHbond',\n 'fr_phos_acid',\n 'fr_phos_ester',\n 'fr_piperdine',\n 'fr_piperzine',\n 'fr_priamide',\n 'fr_prisulfonamd',\n 'fr_pyridine',\n 'fr_quatN',\n 'fr_sulfide',\n 'fr_sulfonamd',\n 'fr_sulfone',\n 'fr_term_acetylene',\n 'fr_tetrazole',\n 'fr_thiazole',\n 'fr_thiocyan',\n 'fr_thiophene',\n 'fr_unbrch_alkane',\n 'fr_urea')"
     },
     "execution_count": 14,
     "metadata": {},
     "output_type": "execute_result"
    }
   ],
   "source": [
    "calc = dML.MolecularDescriptorCalculator([x[0] for x in d._descList])\n",
    "calc.GetDescriptorNames()"
   ],
   "metadata": {
    "collapsed": false
   }
  },
  {
   "cell_type": "code",
   "execution_count": 15,
   "outputs": [
    {
     "ename": "AttributeError",
     "evalue": "'MolecularDescriptorCalculator' object has no attribute 'pK_BHX'",
     "output_type": "error",
     "traceback": [
      "\u001B[0;31m---------------------------------------------------------------------------\u001B[0m",
      "\u001B[0;31mAttributeError\u001B[0m                            Traceback (most recent call last)",
      "Input \u001B[0;32mIn [15]\u001B[0m, in \u001B[0;36m<cell line: 1>\u001B[0;34m()\u001B[0m\n\u001B[0;32m----> 1\u001B[0m \u001B[43mcalc\u001B[49m\u001B[38;5;241;43m.\u001B[39;49m\u001B[43mpK_BHX\u001B[49m(m)\n",
      "\u001B[0;31mAttributeError\u001B[0m: 'MolecularDescriptorCalculator' object has no attribute 'pK_BHX'"
     ]
    }
   ],
   "source": [
    "calc.pK_BHX(m)"
   ],
   "metadata": {
    "collapsed": false
   }
  },
  {
   "cell_type": "code",
   "execution_count": 9,
   "id": "7c243ea2",
   "metadata": {},
   "outputs": [
    {
     "data": {
      "image/png": "[encoded data removed]",
      "text/plain": [
       "<rdkit.Chem.rdchem.Mol at 0x7f89104e57c0>"
      ]
     },
     "execution_count": 9,
     "metadata": {},
     "output_type": "execute_result"
    }
   ],
   "source": [
    "m = Chem.MolFromSmiles('CCCCCCCCCCCCCCC(C(=O)N(C)CCCC)C(=O)N(C)CCCC')\n",
    "m"
   ]
  },
  {
   "cell_type": "code",
   "execution_count": 87,
   "id": "173d012e",
   "metadata": {},
   "outputs": [
    {
     "ename": "SyntaxError",
     "evalue": "invalid syntax (3803855167.py, line 1)",
     "output_type": "error",
     "traceback": [
      "\u001B[0;36m  Input \u001B[0;32mIn [87]\u001B[0;36m\u001B[0m\n\u001B[0;31m    MaxAbsPartialCharge          0.273801\u001B[0m\n\u001B[0m                                 ^\u001B[0m\n\u001B[0;31mSyntaxError\u001B[0m\u001B[0;31m:\u001B[0m invalid syntax\n"
     ]
    }
   ],
   "source": [
    "MaxAbsPartialCharge          0.273801\n",
    "BalabanJ                     0.374780\n",
    "HallKierAlpha                0.331723\n",
    "Kappa2                       0.213915\n",
    "Kappa3                       0.288019\n",
    "PEOE_VSA1                    0.329811\n",
    "PEOE_VSA12                   0.277833\n",
    "SMR_VSA1                     0.301543\n",
    "SMR_VSA6                     0.363292\n",
    "SlogP_VSA2                   0.227851\n",
    "SlogP_VSA3                   0.252993\n",
    "EState_VSA10                 0.299566\n",
    "EState_VSA2                  0.287406\n",
    "EState_VSA5                  0.209991\n",
    "FractionCSP3                 0.307532\n",
    "NumRotatableBonds            0.234273\n",
    "fr_C_O                       0.242308\n",
    "fr_C_O_noCOO                 0.209140\n",
    "fr_Ndealkylation1            0.334748\n",
    "fr_amide                     0.208633\n",
    "fr_ether                     0.211800"
   ]
  },
  {
   "cell_type": "code",
   "execution_count": 93,
   "id": "bdf333d0",
   "metadata": {},
   "outputs": [
    {
     "name": "stdout",
     "output_type": "stream",
     "text": [
      "4.271235262658877\n",
      "412.95237065456854\n",
      "2\n",
      "Number of non-H atoms: 31\n",
      "Weight of all heavy atoms (no H): 384.3090000000002\n",
      "0\n",
      "4\n",
      "0\n",
      "Exact molar weight: 438.418528968\n",
      "4\n",
      "21\n",
      "184\n",
      "-1.06\n",
      "Number of C-O bonds: 2\n",
      "2\n",
      "0\n",
      "Number of amides: 2\n",
      "Number of ether 0\n",
      "MolLogP: 7.210800000000008\n"
     ]
    }
   ],
   "source": [
    "print(d.BalabanJ(m))\n",
    "print(d.BertzCT(m))\n",
    "print(d.fr_amide(m))\n",
    "print('Number of non-H atoms:',d.HeavyAtomCount(m))\n",
    "print('Weight of all heavy atoms (no H):',d.HeavyAtomMolWt(m))\n",
    "print(d.NHOHCount(m))\n",
    "print(d.NOCount(m))\n",
    "print(d.NumHDonors(m))\n",
    "print('Exact molar weight:',d.ExactMolWt(m))\n",
    "print(d.NumHeteroatoms(m))\n",
    "print(d.NumRotatableBonds(m))\n",
    "print(d.NumValenceElectrons(m))\n",
    "#print(d.NumAmideBonds(m))\n",
    "print(d.HallKierAlpha(m))\n",
    "print('Number of C-O bonds:',d.fr_C_O(m))\n",
    "print(d.fr_C_O_noCOO(m))\n",
    "print(d.fr_Ndealkylation1(m))\n",
    "############\n",
    "#print(d.eccentricity(m))\n",
    "print('Number of amides:',d.fr_amide(m))\n",
    "print('Number of ether',d.fr_ether (m))\n",
    "print('MolLogP:',d.MolLogP(m))"
   ]
  },
  {
   "cell_type": "code",
   "execution_count": 71,
   "id": "188db4ee",
   "metadata": {},
   "outputs": [
    {
     "name": "stdout",
     "output_type": "stream",
     "text": [
      "['C', 'CC', 'CCC', 'CCCC', 'CCCCC', 'CCCCCC', 'CCCCCCC', 'CCCCCCCC', 'CCCCCCCCC', 'CCCCCCCCCC', 'CCCCCCCCCCC', 'CCCCCCCCCCCC', 'CCCCCCCCCCCCC', 'CCCCCCCCCCCCCC', 'CCCCCCCCCCCCCCC', 'CCCCCCCCCCCCCCCC', 'CCCCCCCCCCCCCCCCC', 'CCCCCCCCCCCCCCCCCC', 'CCCCCCCCCCCCCCCCCCC', 'CCCCCCCCCCCCCCCCCCCC', 'CCCCCCCCCCCCCCCCCCCCC', 'CCCCCCCCCCCCCCCCCCCCCC', 'CCCCCCCCCCCCCCCCCCCCCCC', 'CCCCCCCCCCCCCCCCCCCCCCCC', 'CCCCCCCCCCCCCCCCCCCCCCCCC', 'CCCCCCCCCCCCCCCCCCCCCCCCCC', 'CCCCCCCCCCCCCCCCCCCCCCCCCCC', 'CCCCCCCCCCCCCCCCCCCCCCCCCCCC', 'CCCCCCCCCCCCCCCCCCCCCCCCCCCCC', 'CCCCCCCCCCCCCCCCCCCCCCCCCCCCCC', 'CCCCCCCCCCCCCCCCCCCCCCCCCCCCCCC', 'CCCCCCCCCCCCCCCCCCCCCCCCCCCCCCCC', 'CCCCCCCCCCCCCCCCCCCCCCCCCCCCCCCCC', 'CCCCCCCCCCCCCCCCCCCCCCCCCCCCCCCCCC', 'CCCCCCCCCCCCCCCCCCCCCCCCCCCCCCCCCCC', 'CCCCCCCCCCCCCCCCCCCCCCCCCCCCCCCCCCCC', 'CCCCCCCCCCCCCCCCCCCCCCCCCCCCCCCCCCCCC', 'CCCCCCCCCCCCCCCCCCCCCCCCCCCCCCCCCCCCCC', 'CCCCCCCCCCCCCCCCCCCCCCCCCCCCCCCCCCCCCCC', 'CCCCCCCCCCCCCCCCCCCCCCCCCCCCCCCCCCCCCCCC', 'CCCCCCCCCCCCCCCCCCCCCCCCCCCCCCCCCCCCCCCCC', 'CCCCCCCCCCCCCCCCCCCCCCCCCCCCCCCCCCCCCCCCCC', 'CCCCCCCCCCCCCCCCCCCCCCCCCCCCCCCCCCCCCCCCCCC', 'CCCCCCCCCCCCCCCCCCCCCCCCCCCCCCCCCCCCCCCCCCCC', 'CCCCCCCCCCCCCCCCCCCCCCCCCCCCCCCCCCCCCCCCCCCCC', 'CCCCCCCCCCCCCCCCCCCCCCCCCCCCCCCCCCCCCCCCCCCCCC', 'CCCCCCCCCCCCCCCCCCCCCCCCCCCCCCCCCCCCCCCCCCCCCCC', 'CCCCCCCCCCCCCCCCCCCCCCCCCCCCCCCCCCCCCCCCCCCCCCCC', 'CCCCCCCCCCCCCCCCCCCCCCCCCCCCCCCCCCCCCCCCCCCCCCCCC', 'CCCCCCCCCCCCCCCCCCCCCCCCCCCCCCCCCCCCCCCCCCCCCCCCCC']\n"
     ]
    }
   ],
   "source": [
    "m = []\n",
    "for i in range(0,50):\n",
    "    if(i  == 0 ):\n",
    "        m.append('C')\n",
    "    else:\n",
    "        m.append(m[i-1]+'C')\n",
    "\n",
    "print(m)"
   ]
  },
  {
   "cell_type": "code",
   "execution_count": 83,
   "id": "8baa56b4",
   "metadata": {},
   "outputs": [],
   "source": [
    "mAlkyls = []\n",
    "for i in range(0,50):\n",
    "    mAlkyls.append( Chem.MolFromSmiles(m[i]))"
   ]
  },
  {
   "cell_type": "code",
   "execution_count": 42,
   "id": "33ca3fa9",
   "metadata": {},
   "outputs": [
    {
     "data": {
      "image/png": "[encoded data removed]",
      "text/plain": [
       "<Figure size 432x288 with 1 Axes>"
      ]
     },
     "metadata": {
      "needs_background": "light"
     },
     "output_type": "display_data"
    },
    {
     "data": {
      "image/png": "[encoded data removed]",
      "text/plain": [
       "<Figure size 432x288 with 1 Axes>"
      ]
     },
     "metadata": {
      "needs_background": "light"
     },
     "output_type": "display_data"
    },
    {
     "data": {
      "image/png": "[encoded data removed]",
      "text/plain": [
       "<Figure size 432x288 with 1 Axes>"
      ]
     },
     "metadata": {
      "needs_background": "light"
     },
     "output_type": "display_data"
    },
    {
     "data": {
      "image/png": "[encoded data removed]",
      "text/plain": [
       "<Figure size 432x288 with 1 Axes>"
      ]
     },
     "metadata": {
      "needs_background": "light"
     },
     "output_type": "display_data"
    },
    {
     "data": {
      "image/png": "[encoded data removed]",
      "text/plain": [
       "<Figure size 432x288 with 1 Axes>"
      ]
     },
     "metadata": {
      "needs_background": "light"
     },
     "output_type": "display_data"
    },
    {
     "data": {
      "image/png": "[encoded data removed]",
      "text/plain": [
       "<Figure size 432x288 with 1 Axes>"
      ]
     },
     "metadata": {
      "needs_background": "light"
     },
     "output_type": "display_data"
    },
    {
     "data": {
      "image/png": "[encoded data removed]",
      "text/plain": [
       "<Figure size 432x288 with 1 Axes>"
      ]
     },
     "metadata": {
      "needs_background": "light"
     },
     "output_type": "display_data"
    },
    {
     "data": {
      "image/png": "[encoded data removed]",
      "text/plain": [
       "<Figure size 432x288 with 1 Axes>"
      ]
     },
     "metadata": {
      "needs_background": "light"
     },
     "output_type": "display_data"
    },
    {
     "data": {
      "image/png": "[encoded data removed]",
      "text/plain": [
       "<Figure size 432x288 with 1 Axes>"
      ]
     },
     "metadata": {
      "needs_background": "light"
     },
     "output_type": "display_data"
    },
    {
     "data": {
      "image/png": "[encoded data removed]",
      "text/plain": [
       "<Figure size 432x288 with 1 Axes>"
      ]
     },
     "metadata": {
      "needs_background": "light"
     },
     "output_type": "display_data"
    }
   ],
   "source": [
    "import matplotlib.pyplot as plt\n",
    "\n",
    "for i in range(0,10): \n",
    "    fig, ax = plt.subplots()\n",
    "    ax.imshow(  Chem.Draw.MolToImage(mAlkyls[i]) )"
   ]
  },
  {
   "cell_type": "code",
   "execution_count": 55,
   "id": "74ea88b6",
   "metadata": {},
   "outputs": [],
   "source": [
    "def wiener_index(m):\n",
    "    res = 0\n",
    "    amat = Chem.GetDistanceMatrix(m)\n",
    "    num_atoms = m.GetNumAtoms()\n",
    "    for i in range(num_atoms):\n",
    "        for j in range(i+1,num_atoms):\n",
    "            res += amat[i][j]\n",
    "    return res"
   ]
  },
  {
   "cell_type": "code",
   "execution_count": 84,
   "id": "64a4ac85",
   "metadata": {},
   "outputs": [],
   "source": [
    "x = np.arange(50)\n",
    "wiener = np.zeros(50)\n",
    "for i,el in enumerate(mAlkyls):\n",
    "    wiener[i] = wiener_index(mAlkyls[i])\n",
    "    #print(i)"
   ]
  },
  {
   "cell_type": "code",
   "execution_count": 57,
   "id": "296a232b",
   "metadata": {},
   "outputs": [],
   "source": [
    "import pandas as pd"
   ]
  },
  {
   "cell_type": "code",
   "execution_count": 85,
   "id": "dca43575",
   "metadata": {},
   "outputs": [],
   "source": [
    "df = pd.DataFrame()\n",
    "df['Ncarbon'] = x\n",
    "df['wiener'] = wiener"
   ]
  },
  {
   "cell_type": "code",
   "execution_count": 77,
   "id": "59d70927",
   "metadata": {},
   "outputs": [
    {
     "data": {
      "text/html": [
       "<div>\n",
       "<style scoped>\n",
       "    .dataframe tbody tr th:only-of-type {\n",
       "        vertical-align: middle;\n",
       "    }\n",
       "\n",
       "    .dataframe tbody tr th {\n",
       "        vertical-align: top;\n",
       "    }\n",
       "\n",
       "    .dataframe thead th {\n",
       "        text-align: right;\n",
       "    }\n",
       "</style>\n",
       "<table border=\"1\" class=\"dataframe\">\n",
       "  <thead>\n",
       "    <tr style=\"text-align: right;\">\n",
       "      <th></th>\n",
       "      <th>Ncarbon</th>\n",
       "      <th>wiener</th>\n",
       "    </tr>\n",
       "  </thead>\n",
       "  <tbody>\n",
       "    <tr>\n",
       "      <th>0</th>\n",
       "      <td>0</td>\n",
       "      <td>0.0</td>\n",
       "    </tr>\n",
       "    <tr>\n",
       "      <th>1</th>\n",
       "      <td>1</td>\n",
       "      <td>1.0</td>\n",
       "    </tr>\n",
       "    <tr>\n",
       "      <th>2</th>\n",
       "      <td>2</td>\n",
       "      <td>4.0</td>\n",
       "    </tr>\n",
       "    <tr>\n",
       "      <th>3</th>\n",
       "      <td>3</td>\n",
       "      <td>10.0</td>\n",
       "    </tr>\n",
       "    <tr>\n",
       "      <th>4</th>\n",
       "      <td>4</td>\n",
       "      <td>20.0</td>\n",
       "    </tr>\n",
       "    <tr>\n",
       "      <th>5</th>\n",
       "      <td>5</td>\n",
       "      <td>35.0</td>\n",
       "    </tr>\n",
       "    <tr>\n",
       "      <th>6</th>\n",
       "      <td>6</td>\n",
       "      <td>56.0</td>\n",
       "    </tr>\n",
       "    <tr>\n",
       "      <th>7</th>\n",
       "      <td>7</td>\n",
       "      <td>84.0</td>\n",
       "    </tr>\n",
       "    <tr>\n",
       "      <th>8</th>\n",
       "      <td>8</td>\n",
       "      <td>120.0</td>\n",
       "    </tr>\n",
       "    <tr>\n",
       "      <th>9</th>\n",
       "      <td>9</td>\n",
       "      <td>165.0</td>\n",
       "    </tr>\n",
       "  </tbody>\n",
       "</table>\n",
       "</div>"
      ],
      "text/plain": [
       "   Ncarbon  wiener\n",
       "0        0     0.0\n",
       "1        1     1.0\n",
       "2        2     4.0\n",
       "3        3    10.0\n",
       "4        4    20.0\n",
       "5        5    35.0\n",
       "6        6    56.0\n",
       "7        7    84.0\n",
       "8        8   120.0\n",
       "9        9   165.0"
      ]
     },
     "execution_count": 77,
     "metadata": {},
     "output_type": "execute_result"
    }
   ],
   "source": [
    "df.head(10)"
   ]
  },
  {
   "cell_type": "code",
   "execution_count": 88,
   "id": "b19cf2ad",
   "metadata": {},
   "outputs": [
    {
     "data": {
      "text/plain": [
       "<AxesSubplot:xlabel='Ncarbon', ylabel='wiener'>"
      ]
     },
     "execution_count": 88,
     "metadata": {},
     "output_type": "execute_result"
    },
    {
     "data": {
      "image/png": "[encoded data removed]",
      "text/plain": [
       "<Figure size 432x288 with 1 Axes>"
      ]
     },
     "metadata": {
      "needs_background": "light"
     },
     "output_type": "display_data"
    }
   ],
   "source": [
    "df.plot(x = 'Ncarbon' , y='wiener', marker='o', kind='scatter')"
   ]
  },
  {
   "cell_type": "code",
   "execution_count": null,
   "id": "0d8a6dd7",
   "metadata": {},
   "outputs": [],
   "source": []
  }
 ],
 "metadata": {
  "kernelspec": {
   "display_name": "Python 3 (ipykernel)",
   "language": "python",
   "name": "python3"
  },
  "language_info": {
   "codemirror_mode": {
    "name": "ipython",
    "version": 3
   },
   "file_extension": ".py",
   "mimetype": "text/x-python",
   "name": "python",
   "nbconvert_exporter": "python",
   "pygments_lexer": "ipython3",
   "version": "3.9.12"
  }
 },
 "nbformat": 4,
 "nbformat_minor": 5
}
